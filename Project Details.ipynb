{
 "cells": [
  {
   "cell_type": "markdown",
   "id": "a1805bac",
   "metadata": {},
   "source": [
    "# Project Details"
   ]
  },
  {
   "cell_type": "markdown",
   "id": "7d0d27f7",
   "metadata": {},
   "source": [
    "# Project 1 - Migration of application's legacy file systems data to RDBMS."
   ]
  },
  {
   "cell_type": "markdown",
   "id": "83970413",
   "metadata": {},
   "source": [
    "#### Brief Background:\n",
    "With most of the expert mainframe staff expressing their desire to retire in the next few years and organization's looking forward to reducing cost of maintenance and infrastructure, there is an increase in demand for modernization of mainframe applications.\n",
    "There was a need to migrate the application's legacy files called as VSAM files to IBM DB2. The interaction between batch, online, data exchange, writing queries in SQL, data manipulation and extraction of data from RDBMS such as IBM DB2 is much more efficient than legacy files such as VSAM.  At the same time, making it available for languages other than mainframes.\n",
    "\n"
   ]
  },
  {
   "cell_type": "markdown",
   "id": "327477b8",
   "metadata": {},
   "source": [
    "#### Roles and Responsibilities:"
   ]
  },
  {
   "cell_type": "markdown",
   "id": "49c332e8",
   "metadata": {},
   "source": [
    "\n",
    "1.Analyzed the VSAM files that had customer information and customer loyalty program related information in detail with the help of copybooks that define the structure of the data.\n"
   ]
  },
  {
   "cell_type": "markdown",
   "id": "90cf8eb3",
   "metadata": {},
   "source": [
    "2.Logical data model created.\n"
   ]
  },
  {
   "cell_type": "markdown",
   "id": "16b33ab4",
   "metadata": {},
   "source": [
    "3.Assisted the development teams to create an ETL process that extracts the data from Vsam, Transforms the data and load the data to the table.\n"
   ]
  },
  {
   "cell_type": "markdown",
   "id": "bae427e1",
   "metadata": {},
   "source": [
    "4.Performed validation and verification of the data conversion based on the various mappings while taking care of EBCDIC to ASCII formats and other formats specific to mainframe."
   ]
  },
  {
   "cell_type": "markdown",
   "id": "54f3c8f6",
   "metadata": {},
   "source": [
    "# Project 2 - Rewards clean-up\n"
   ]
  },
  {
   "cell_type": "markdown",
   "id": "b0fb8297",
   "metadata": {},
   "source": [
    "#### Brief Background:\n",
    "Clean-up of old rewards products for US Bank by\n",
    "identification, analysis, reporting and visualization of data. This was done to reduce the cost charged by the third party to the  bank for each active record present."
   ]
  },
  {
   "cell_type": "markdown",
   "id": "3c584ceb",
   "metadata": {},
   "source": [
    "#### Roles and Responsibilities:"
   ]
  },
  {
   "cell_type": "markdown",
   "id": "5122dc4c",
   "metadata": {},
   "source": [
    "1.Identified the products which are not eligible to earn the reward points/old products for the cleanup. Analysis was done using Python pandas and SQL.\n",
    "Phase1: Account level cleanup is done in which 690k  customers were closed in rewards. Phase2: Customer level cleanup is done in which around 590k customers were closed in rewards system."
   ]
  },
  {
   "cell_type": "markdown",
   "id": "6c9cb613",
   "metadata": {},
   "source": [
    "2.Reports created for the LOB using SAS for verification."
   ]
  },
  {
   "cell_type": "markdown",
   "id": "c72472d1",
   "metadata": {},
   "source": [
    "3.Dashboards created in Microsoft Power BI for visualisation of data."
   ]
  },
  {
   "cell_type": "markdown",
   "id": "2bca60f0",
   "metadata": {},
   "source": [
    "# Project 3 - SOP automation\n"
   ]
  },
  {
   "cell_type": "markdown",
   "id": "2710ba92",
   "metadata": {},
   "source": [
    "#### Brief background:\n",
    "Many Standard operating procedures have to be perfomed for BAU activities in Banking and Payments domain. These are mostly recurring activities which required manual efforts."
   ]
  },
  {
   "cell_type": "markdown",
   "id": "91a68f00",
   "metadata": {},
   "source": [
    "#### Roles and Responsibilities:"
   ]
  },
  {
   "cell_type": "markdown",
   "id": "b1da98e6",
   "metadata": {},
   "source": [
    "1.Analysed the need for automation as some tasks aren't suited for automation that require a degree of creativity, flexibility that automatic systems can't provide or for more complicated or less frequently executed tasks creating the automation may actually be more effort or cost than its worth."
   ]
  },
  {
   "cell_type": "markdown",
   "id": "495689c3",
   "metadata": {},
   "source": [
    "2.After completing understanding the need and recieving approvals from the client, developed modules in SAS that took care of SOP's with no manual intervention leading to increase in efficiency and decrease in cost and also made way for the utilisation of the key resources time in other important BAU activities."
   ]
  },
  {
   "cell_type": "markdown",
   "id": "6a57c7b9",
   "metadata": {},
   "source": [
    "# Project 4 - RCA reports to address problems related to Banking and cards\n"
   ]
  },
  {
   "cell_type": "markdown",
   "id": "c6ff91cc",
   "metadata": {},
   "source": [
    "#### Brief Background:\n",
    "The increase in failures related to customer enrolment, card being lost/stolen/misplaced, data sync issues with third party vendors posed greater problem as dedicated staff was required to look into each of problem and provide solutions."
   ]
  },
  {
   "cell_type": "markdown",
   "id": "c3ddd789",
   "metadata": {},
   "source": [
    "#### Roles and responsibilities:\n",
    "The data was collected and analysed in Microsoft Excel, RCA Reports were created and shared with the LOB and respective development team to fix the bugs in the system that was leading to these errors."
   ]
  },
  {
   "cell_type": "markdown",
   "id": "a62a8744",
   "metadata": {},
   "source": [
    "# Project 5 - Basic data warehouse solution using Airflow\n"
   ]
  },
  {
   "cell_type": "markdown",
   "id": "b77e0f96",
   "metadata": {},
   "source": [
    "#### Brief Background:\n",
    "There was a requirement of building a data warehouse solution capable of doing a set of data processing tasks."
   ]
  },
  {
   "cell_type": "markdown",
   "id": "5d3423b9",
   "metadata": {},
   "source": [
    "#### Roles and Responsibilities:"
   ]
  },
  {
   "cell_type": "markdown",
   "id": "e36f3d15",
   "metadata": {},
   "source": [
    "1.To Load CSV / other format files to data warehouse. Files included sensitive data for providing disaster relief to customers."
   ]
  },
  {
   "cell_type": "markdown",
   "id": "d46ac36b",
   "metadata": {},
   "source": [
    "2.To handle the data transformation process and then loading to the table which can be used by data analytics team for data visualization etc."
   ]
  },
  {
   "cell_type": "markdown",
   "id": "7ab62ce1",
   "metadata": {},
   "source": [
    "3.Assisted the data engineers in defining DAG arguments and the DAG, creating tasks to download data, extract data from files of different formats, consolidate data extracted from previous tasks, transform the data, define the task pipeline."
   ]
  },
  {
   "cell_type": "markdown",
   "id": "87d7b089",
   "metadata": {},
   "source": [
    "4.Perform verification and validation of transformed data."
   ]
  }
 ],
 "metadata": {
  "kernelspec": {
   "display_name": "Python 3 (ipykernel)",
   "language": "python",
   "name": "python3"
  },
  "language_info": {
   "codemirror_mode": {
    "name": "ipython",
    "version": 3
   },
   "file_extension": ".py",
   "mimetype": "text/x-python",
   "name": "python",
   "nbconvert_exporter": "python",
   "pygments_lexer": "ipython3",
   "version": "3.9.7"
  }
 },
 "nbformat": 4,
 "nbformat_minor": 5
}
