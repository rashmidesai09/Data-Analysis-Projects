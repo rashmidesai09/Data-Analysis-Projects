{
 "cells": [
  {
   "cell_type": "markdown",
   "id": "34fa1ca9",
   "metadata": {},
   "source": [
    "## Exploratory data analysis (EDA) with Pandas, Numpy and Matplotlib for Bank Marketing Data Set (open source)"
   ]
  },
  {
   "cell_type": "markdown",
   "id": "3a022d1c",
   "metadata": {},
   "source": [
    "Objectives :\n",
    "1. Explore a banking dataset with Pandas framework.\n",
    "2. Build pivot tables.\n",
    "3. Visualize the dataset with various plot types.\n",
    "\n",
    "During the work, the task of preliminary analysis is a matter of bank scoring, i.e. according to the characteristics of a client (potential client), their behavior is predicted (loan default, a wish to make a deposit, etc.).\n",
    "\n",
    "We try to find answers to a set of questions that may be relevant when analyzing banking data:\n",
    "\n",
    "1. What is the average call duration for the attracted clients?\n",
    "2. What is the average age among the attracted and unmarried clients?\n",
    "3. What is the average age and call duration for different types of client employment?\n",
    "\n",
    "In addition, we will make a visual analysis in order to plan marketing banking campaigns more effectively."
   ]
  },
  {
   "cell_type": "markdown",
   "id": "0a4d0719",
   "metadata": {},
   "source": [
    "### Dataset :\n",
    "The data used for this is a subset of an open source Bank Marketing Data Set from the UCI ML repository: https://archive.ics.uci.edu/ml/citation_policy.html.\n",
    "\n",
    "This dataset is publicly available for research. The details are described in [Moro et al., 2014].\n",
    "\n",
    "Please include this citation if you plan to use this database: [Moro et al., 2014] S. Moro, P. Cortez and P. Rita. A Data-Driven Approach to Predict the Success of Bank Telemarketing. Decision Support Systems, Elsevier, 62:22-31, June 2014"
   ]
  },
  {
   "cell_type": "markdown",
   "id": "8d2f9f05",
   "metadata": {},
   "source": [
    "### Python Library being used : Pandas\n",
    "Pandas is a Python library that provides extensive means for data analysis. Data scientists often work with data stored in table formats like .csv, .tsv, or .xlsx. Pandas makes it very convenient to load, process, and analyze such tabular data using SQL-like queries. In conjunction with Matplotlib and Seaborn, Pandas provides a wide range of opportunities for visual analysis of tabular data."
   ]
  },
  {
   "cell_type": "markdown",
   "id": "8abd58cf",
   "metadata": {},
   "source": [
    "### Libraries Import"
   ]
  },
  {
   "cell_type": "code",
   "execution_count": 5,
   "id": "569e0e27",
   "metadata": {},
   "outputs": [
    {
     "name": "stdout",
     "output_type": "stream",
     "text": [
      "Requirement already satisfied: pandas in c:\\users\\rashmi\\anaconda3\\lib\\site-packages (1.3.4)\n",
      "Requirement already satisfied: numpy>=1.17.3 in c:\\users\\rashmi\\anaconda3\\lib\\site-packages (from pandas) (1.20.3)\n",
      "Requirement already satisfied: python-dateutil>=2.7.3 in c:\\users\\rashmi\\anaconda3\\lib\\site-packages (from pandas) (2.8.2)\n",
      "Requirement already satisfied: pytz>=2017.3 in c:\\users\\rashmi\\anaconda3\\lib\\site-packages (from pandas) (2021.3)\n",
      "Requirement already satisfied: six>=1.5 in c:\\users\\rashmi\\anaconda3\\lib\\site-packages (from python-dateutil>=2.7.3->pandas) (1.16.0)\n",
      "Note: you may need to restart the kernel to use updated packages.\n"
     ]
    }
   ],
   "source": [
    "pip install pandas "
   ]
  },
  {
   "cell_type": "code",
   "execution_count": 23,
   "id": "de7d976e",
   "metadata": {},
   "outputs": [],
   "source": [
    "import pandas as pd\n",
    "import matplotlib.pyplot as plt\n",
    "import numpy as np\n",
    "\n",
    "%matplotlib inline\n",
    "plt.rcParams[\"figure.figsize\"] = (8, 6)\n",
    "\n",
    "import warnings\n",
    "warnings.filterwarnings('ignore')"
   ]
  },
  {
   "cell_type": "code",
   "execution_count": 24,
   "id": "e14c1766",
   "metadata": {},
   "outputs": [],
   "source": [
    "#Specify the value of the precision parameter equal to 2 to display two decimal signs (instead of 6 as default).\n",
    "pd.set_option(\"precision\", 2)\n",
    "pd.options.display.float_format = '{:.2f}'.format"
   ]
  },
  {
   "cell_type": "markdown",
   "id": "ea4dd748",
   "metadata": {},
   "source": [
    "### Dataset exploration\n",
    "Explore the sourse dataset by reading the data from csv file that is semicolon separated, take a look at the first 5 rows using the head method. The number of the output rows from the dataset is determined by the head method parameter."
   ]
  },
  {
   "cell_type": "code",
   "execution_count": 25,
   "id": "812dc42d",
   "metadata": {},
   "outputs": [
    {
     "data": {
      "text/html": [
       "<div>\n",
       "<style scoped>\n",
       "    .dataframe tbody tr th:only-of-type {\n",
       "        vertical-align: middle;\n",
       "    }\n",
       "\n",
       "    .dataframe tbody tr th {\n",
       "        vertical-align: top;\n",
       "    }\n",
       "\n",
       "    .dataframe thead th {\n",
       "        text-align: right;\n",
       "    }\n",
       "</style>\n",
       "<table border=\"1\" class=\"dataframe\">\n",
       "  <thead>\n",
       "    <tr style=\"text-align: right;\">\n",
       "      <th></th>\n",
       "      <th>age</th>\n",
       "      <th>job</th>\n",
       "      <th>marital</th>\n",
       "      <th>education</th>\n",
       "      <th>default</th>\n",
       "      <th>housing</th>\n",
       "      <th>loan</th>\n",
       "      <th>contact</th>\n",
       "      <th>month</th>\n",
       "      <th>day_of_week</th>\n",
       "      <th>...</th>\n",
       "      <th>campaign</th>\n",
       "      <th>pdays</th>\n",
       "      <th>previous</th>\n",
       "      <th>poutcome</th>\n",
       "      <th>emp.var.rate</th>\n",
       "      <th>cons.price.idx</th>\n",
       "      <th>cons.conf.idx</th>\n",
       "      <th>euribor3m</th>\n",
       "      <th>nr.employed</th>\n",
       "      <th>y</th>\n",
       "    </tr>\n",
       "  </thead>\n",
       "  <tbody>\n",
       "    <tr>\n",
       "      <th>0</th>\n",
       "      <td>56</td>\n",
       "      <td>housemaid</td>\n",
       "      <td>married</td>\n",
       "      <td>basic.4y</td>\n",
       "      <td>no</td>\n",
       "      <td>no</td>\n",
       "      <td>no</td>\n",
       "      <td>telephone</td>\n",
       "      <td>may</td>\n",
       "      <td>mon</td>\n",
       "      <td>...</td>\n",
       "      <td>1</td>\n",
       "      <td>999</td>\n",
       "      <td>0</td>\n",
       "      <td>nonexistent</td>\n",
       "      <td>1.10</td>\n",
       "      <td>93.99</td>\n",
       "      <td>-36.40</td>\n",
       "      <td>4.86</td>\n",
       "      <td>5191.00</td>\n",
       "      <td>no</td>\n",
       "    </tr>\n",
       "    <tr>\n",
       "      <th>1</th>\n",
       "      <td>57</td>\n",
       "      <td>services</td>\n",
       "      <td>married</td>\n",
       "      <td>high.school</td>\n",
       "      <td>unknown</td>\n",
       "      <td>no</td>\n",
       "      <td>no</td>\n",
       "      <td>telephone</td>\n",
       "      <td>may</td>\n",
       "      <td>mon</td>\n",
       "      <td>...</td>\n",
       "      <td>1</td>\n",
       "      <td>999</td>\n",
       "      <td>0</td>\n",
       "      <td>nonexistent</td>\n",
       "      <td>1.10</td>\n",
       "      <td>93.99</td>\n",
       "      <td>-36.40</td>\n",
       "      <td>4.86</td>\n",
       "      <td>5191.00</td>\n",
       "      <td>no</td>\n",
       "    </tr>\n",
       "    <tr>\n",
       "      <th>2</th>\n",
       "      <td>37</td>\n",
       "      <td>services</td>\n",
       "      <td>married</td>\n",
       "      <td>high.school</td>\n",
       "      <td>no</td>\n",
       "      <td>yes</td>\n",
       "      <td>no</td>\n",
       "      <td>telephone</td>\n",
       "      <td>may</td>\n",
       "      <td>mon</td>\n",
       "      <td>...</td>\n",
       "      <td>1</td>\n",
       "      <td>999</td>\n",
       "      <td>0</td>\n",
       "      <td>nonexistent</td>\n",
       "      <td>1.10</td>\n",
       "      <td>93.99</td>\n",
       "      <td>-36.40</td>\n",
       "      <td>4.86</td>\n",
       "      <td>5191.00</td>\n",
       "      <td>no</td>\n",
       "    </tr>\n",
       "    <tr>\n",
       "      <th>3</th>\n",
       "      <td>40</td>\n",
       "      <td>admin.</td>\n",
       "      <td>married</td>\n",
       "      <td>basic.6y</td>\n",
       "      <td>no</td>\n",
       "      <td>no</td>\n",
       "      <td>no</td>\n",
       "      <td>telephone</td>\n",
       "      <td>may</td>\n",
       "      <td>mon</td>\n",
       "      <td>...</td>\n",
       "      <td>1</td>\n",
       "      <td>999</td>\n",
       "      <td>0</td>\n",
       "      <td>nonexistent</td>\n",
       "      <td>1.10</td>\n",
       "      <td>93.99</td>\n",
       "      <td>-36.40</td>\n",
       "      <td>4.86</td>\n",
       "      <td>5191.00</td>\n",
       "      <td>no</td>\n",
       "    </tr>\n",
       "    <tr>\n",
       "      <th>4</th>\n",
       "      <td>56</td>\n",
       "      <td>services</td>\n",
       "      <td>married</td>\n",
       "      <td>high.school</td>\n",
       "      <td>no</td>\n",
       "      <td>no</td>\n",
       "      <td>yes</td>\n",
       "      <td>telephone</td>\n",
       "      <td>may</td>\n",
       "      <td>mon</td>\n",
       "      <td>...</td>\n",
       "      <td>1</td>\n",
       "      <td>999</td>\n",
       "      <td>0</td>\n",
       "      <td>nonexistent</td>\n",
       "      <td>1.10</td>\n",
       "      <td>93.99</td>\n",
       "      <td>-36.40</td>\n",
       "      <td>4.86</td>\n",
       "      <td>5191.00</td>\n",
       "      <td>no</td>\n",
       "    </tr>\n",
       "  </tbody>\n",
       "</table>\n",
       "<p>5 rows × 21 columns</p>\n",
       "</div>"
      ],
      "text/plain": [
       "   age        job  marital    education  default housing loan    contact  \\\n",
       "0   56  housemaid  married     basic.4y       no      no   no  telephone   \n",
       "1   57   services  married  high.school  unknown      no   no  telephone   \n",
       "2   37   services  married  high.school       no     yes   no  telephone   \n",
       "3   40     admin.  married     basic.6y       no      no   no  telephone   \n",
       "4   56   services  married  high.school       no      no  yes  telephone   \n",
       "\n",
       "  month day_of_week  ...  campaign  pdays  previous     poutcome emp.var.rate  \\\n",
       "0   may         mon  ...         1    999         0  nonexistent         1.10   \n",
       "1   may         mon  ...         1    999         0  nonexistent         1.10   \n",
       "2   may         mon  ...         1    999         0  nonexistent         1.10   \n",
       "3   may         mon  ...         1    999         0  nonexistent         1.10   \n",
       "4   may         mon  ...         1    999         0  nonexistent         1.10   \n",
       "\n",
       "   cons.price.idx  cons.conf.idx  euribor3m  nr.employed   y  \n",
       "0           93.99         -36.40       4.86      5191.00  no  \n",
       "1           93.99         -36.40       4.86      5191.00  no  \n",
       "2           93.99         -36.40       4.86      5191.00  no  \n",
       "3           93.99         -36.40       4.86      5191.00  no  \n",
       "4           93.99         -36.40       4.86      5191.00  no  \n",
       "\n",
       "[5 rows x 21 columns]"
      ]
     },
     "execution_count": 25,
     "metadata": {},
     "output_type": "execute_result"
    }
   ],
   "source": [
    "df = pd.read_csv('bank-additional/bank-additional-full.csv', sep = ';')\n",
    "df.head(5)"
   ]
  },
  {
   "cell_type": "markdown",
   "id": "16c60b4f",
   "metadata": {},
   "source": [
    "Explore the dataset's size, feature name and their types"
   ]
  },
  {
   "cell_type": "code",
   "execution_count": 26,
   "id": "bff46e08",
   "metadata": {},
   "outputs": [
    {
     "data": {
      "text/plain": [
       "(41188, 21)"
      ]
     },
     "execution_count": 26,
     "metadata": {},
     "output_type": "execute_result"
    }
   ],
   "source": [
    "df.shape"
   ]
  },
  {
   "cell_type": "markdown",
   "id": "a638dc18",
   "metadata": {},
   "source": [
    "Inference : The dataset contains 41188 objects (rows), for each of which 21 features are set (columns)"
   ]
  },
  {
   "cell_type": "markdown",
   "id": "05c756d1",
   "metadata": {},
   "source": [
    "### Attributing information\n",
    "Output the column (feature) names"
   ]
  },
  {
   "cell_type": "code",
   "execution_count": 28,
   "id": "984a32c1",
   "metadata": {},
   "outputs": [
    {
     "data": {
      "text/plain": [
       "Index(['age', 'job', 'marital', 'education', 'default', 'housing', 'loan',\n",
       "       'contact', 'month', 'day_of_week', 'duration', 'campaign', 'pdays',\n",
       "       'previous', 'poutcome', 'emp.var.rate', 'cons.price.idx',\n",
       "       'cons.conf.idx', 'euribor3m', 'nr.employed', 'y'],\n",
       "      dtype='object')"
      ]
     },
     "execution_count": 28,
     "metadata": {},
     "output_type": "execute_result"
    }
   ],
   "source": [
    "df.columns"
   ]
  },
  {
   "cell_type": "markdown",
   "id": "29552694",
   "metadata": {},
   "source": [
    "Input features (column names):\n",
    "\n",
    "1.  `age` - client's age in years (numeric)\n",
    "2.  `job` - type of job (categorical: `admin.`, `blue-collar`, `entrepreneur`, `housemaid`, `management`, `retired`, `self- employed`, `services`, `student`, `technician`, `unemployed`, `unknown`)\n",
    "3.  `marital` - marital status (categorical: `divorced`, `married`, `single`, `unknown`)\n",
    "4.  `education` - client's education (categorical: `basic.4y`, `basic.6y`, `basic.9y`, `high.school`, `illiterate`, `professional.course`, `university.degree`, `unknown`)\n",
    "5.  `default` - has credit in default? (categorical: `no`, `yes`, `unknown`)\n",
    "6.  `housing` - has housing loan? (categorical: `no`, `yes`, `unknown`)\n",
    "7.  `loan` - has personal loan? (categorical: `no`, `yes`, `unknown`)\n",
    "8.  `contact` - contact communication type (categorical: `cellular`, `telephone`)\n",
    "9.  `month` - last contact month of the year (categorical: `jan`, `feb`, `mar`, ..., `nov`, `dec`)\n",
    "10. `day_of_week` - last contact day of the week (categorical: `mon`, `tue`, `wed`, `thu`, `fri`)\n",
    "11. `duration` - last contact duration, in seconds (numeric).\n",
    "12. `campaign` - number of contacts performed and for this client during this campaign (numeric, includes the last contact)\n",
    "13. `pdays` - number of days that have passed after the client was last contacted from the previous campaign (numeric; 999 means the client has not been previously contacted)\n",
    "14. `previous` - number of contacts performed for this client before this campaign (numeric)\n",
    "15. `poutcome` - outcome of the previous marketing campaign (categorical: `failure`, `nonexistent`, `success`)\n",
    "16. `emp.var.rate` - employment variation rate, quarterly indicator (numeric)\n",
    "17. `cons.price.idx` - consumer price index, monthly indicator (numeric)\n",
    "18. `cons.conf.idx` - consumer confidence index, monthly indicator (numeric)\n",
    "19. `euribor3m` - euribor 3 month rate, daily indicator (numeric)\n",
    "20. `nr.employed` - number of employees, quarterly indicator (numeric)\n",
    "\n",
    "Output feature (desired target):\n",
    "\n",
    "21. `y` - has the client subscribed a term deposit? (binary: `yes`,`no`)\n"
   ]
  },
  {
   "cell_type": "markdown",
   "id": "3535bbcc",
   "metadata": {},
   "source": [
    "To see the general information on all the DataFrame features (columns), we use the info method:"
   ]
  },
  {
   "cell_type": "code",
   "execution_count": 29,
   "id": "1df2d60d",
   "metadata": {},
   "outputs": [
    {
     "name": "stdout",
     "output_type": "stream",
     "text": [
      "<class 'pandas.core.frame.DataFrame'>\n",
      "RangeIndex: 41188 entries, 0 to 41187\n",
      "Data columns (total 21 columns):\n",
      " #   Column          Non-Null Count  Dtype  \n",
      "---  ------          --------------  -----  \n",
      " 0   age             41188 non-null  int64  \n",
      " 1   job             41188 non-null  object \n",
      " 2   marital         41188 non-null  object \n",
      " 3   education       41188 non-null  object \n",
      " 4   default         41188 non-null  object \n",
      " 5   housing         41188 non-null  object \n",
      " 6   loan            41188 non-null  object \n",
      " 7   contact         41188 non-null  object \n",
      " 8   month           41188 non-null  object \n",
      " 9   day_of_week     41188 non-null  object \n",
      " 10  duration        41188 non-null  int64  \n",
      " 11  campaign        41188 non-null  int64  \n",
      " 12  pdays           41188 non-null  int64  \n",
      " 13  previous        41188 non-null  int64  \n",
      " 14  poutcome        41188 non-null  object \n",
      " 15  emp.var.rate    41188 non-null  float64\n",
      " 16  cons.price.idx  41188 non-null  float64\n",
      " 17  cons.conf.idx   41188 non-null  float64\n",
      " 18  euribor3m       41188 non-null  float64\n",
      " 19  nr.employed     41188 non-null  float64\n",
      " 20  y               41188 non-null  object \n",
      "dtypes: float64(5), int64(5), object(11)\n",
      "memory usage: 6.6+ MB\n",
      "None\n"
     ]
    }
   ],
   "source": [
    "print(df.info())"
   ]
  },
  {
   "cell_type": "markdown",
   "id": "b94d35c0",
   "metadata": {},
   "source": [
    "Inference : The dataset is full, no pass (non-null), so there is no need to fill the gaps. The dataset contains 5 integer (int64), 5 real (float64) and 11 categorical and binary (object) features.\n"
   ]
  },
  {
   "cell_type": "code",
   "execution_count": 30,
   "id": "85e47cf5",
   "metadata": {},
   "outputs": [
    {
     "data": {
      "text/html": [
       "<div>\n",
       "<style scoped>\n",
       "    .dataframe tbody tr th:only-of-type {\n",
       "        vertical-align: middle;\n",
       "    }\n",
       "\n",
       "    .dataframe tbody tr th {\n",
       "        vertical-align: top;\n",
       "    }\n",
       "\n",
       "    .dataframe thead th {\n",
       "        text-align: right;\n",
       "    }\n",
       "</style>\n",
       "<table border=\"1\" class=\"dataframe\">\n",
       "  <thead>\n",
       "    <tr style=\"text-align: right;\">\n",
       "      <th></th>\n",
       "      <th>age</th>\n",
       "      <th>duration</th>\n",
       "      <th>campaign</th>\n",
       "      <th>pdays</th>\n",
       "      <th>previous</th>\n",
       "      <th>emp.var.rate</th>\n",
       "      <th>cons.price.idx</th>\n",
       "      <th>cons.conf.idx</th>\n",
       "      <th>euribor3m</th>\n",
       "      <th>nr.employed</th>\n",
       "    </tr>\n",
       "  </thead>\n",
       "  <tbody>\n",
       "    <tr>\n",
       "      <th>count</th>\n",
       "      <td>41188.00</td>\n",
       "      <td>41188.00</td>\n",
       "      <td>41188.00</td>\n",
       "      <td>41188.00</td>\n",
       "      <td>41188.00</td>\n",
       "      <td>41188.00</td>\n",
       "      <td>41188.00</td>\n",
       "      <td>41188.00</td>\n",
       "      <td>41188.00</td>\n",
       "      <td>41188.00</td>\n",
       "    </tr>\n",
       "    <tr>\n",
       "      <th>mean</th>\n",
       "      <td>40.02</td>\n",
       "      <td>258.29</td>\n",
       "      <td>2.57</td>\n",
       "      <td>962.48</td>\n",
       "      <td>0.17</td>\n",
       "      <td>0.08</td>\n",
       "      <td>93.58</td>\n",
       "      <td>-40.50</td>\n",
       "      <td>3.62</td>\n",
       "      <td>5167.04</td>\n",
       "    </tr>\n",
       "    <tr>\n",
       "      <th>std</th>\n",
       "      <td>10.42</td>\n",
       "      <td>259.28</td>\n",
       "      <td>2.77</td>\n",
       "      <td>186.91</td>\n",
       "      <td>0.49</td>\n",
       "      <td>1.57</td>\n",
       "      <td>0.58</td>\n",
       "      <td>4.63</td>\n",
       "      <td>1.73</td>\n",
       "      <td>72.25</td>\n",
       "    </tr>\n",
       "    <tr>\n",
       "      <th>min</th>\n",
       "      <td>17.00</td>\n",
       "      <td>0.00</td>\n",
       "      <td>1.00</td>\n",
       "      <td>0.00</td>\n",
       "      <td>0.00</td>\n",
       "      <td>-3.40</td>\n",
       "      <td>92.20</td>\n",
       "      <td>-50.80</td>\n",
       "      <td>0.63</td>\n",
       "      <td>4963.60</td>\n",
       "    </tr>\n",
       "    <tr>\n",
       "      <th>25%</th>\n",
       "      <td>32.00</td>\n",
       "      <td>102.00</td>\n",
       "      <td>1.00</td>\n",
       "      <td>999.00</td>\n",
       "      <td>0.00</td>\n",
       "      <td>-1.80</td>\n",
       "      <td>93.08</td>\n",
       "      <td>-42.70</td>\n",
       "      <td>1.34</td>\n",
       "      <td>5099.10</td>\n",
       "    </tr>\n",
       "    <tr>\n",
       "      <th>50%</th>\n",
       "      <td>38.00</td>\n",
       "      <td>180.00</td>\n",
       "      <td>2.00</td>\n",
       "      <td>999.00</td>\n",
       "      <td>0.00</td>\n",
       "      <td>1.10</td>\n",
       "      <td>93.75</td>\n",
       "      <td>-41.80</td>\n",
       "      <td>4.86</td>\n",
       "      <td>5191.00</td>\n",
       "    </tr>\n",
       "    <tr>\n",
       "      <th>75%</th>\n",
       "      <td>47.00</td>\n",
       "      <td>319.00</td>\n",
       "      <td>3.00</td>\n",
       "      <td>999.00</td>\n",
       "      <td>0.00</td>\n",
       "      <td>1.40</td>\n",
       "      <td>93.99</td>\n",
       "      <td>-36.40</td>\n",
       "      <td>4.96</td>\n",
       "      <td>5228.10</td>\n",
       "    </tr>\n",
       "    <tr>\n",
       "      <th>max</th>\n",
       "      <td>98.00</td>\n",
       "      <td>4918.00</td>\n",
       "      <td>56.00</td>\n",
       "      <td>999.00</td>\n",
       "      <td>7.00</td>\n",
       "      <td>1.40</td>\n",
       "      <td>94.77</td>\n",
       "      <td>-26.90</td>\n",
       "      <td>5.04</td>\n",
       "      <td>5228.10</td>\n",
       "    </tr>\n",
       "  </tbody>\n",
       "</table>\n",
       "</div>"
      ],
      "text/plain": [
       "           age  duration  campaign    pdays  previous  emp.var.rate  \\\n",
       "count 41188.00  41188.00  41188.00 41188.00  41188.00      41188.00   \n",
       "mean     40.02    258.29      2.57   962.48      0.17          0.08   \n",
       "std      10.42    259.28      2.77   186.91      0.49          1.57   \n",
       "min      17.00      0.00      1.00     0.00      0.00         -3.40   \n",
       "25%      32.00    102.00      1.00   999.00      0.00         -1.80   \n",
       "50%      38.00    180.00      2.00   999.00      0.00          1.10   \n",
       "75%      47.00    319.00      3.00   999.00      0.00          1.40   \n",
       "max      98.00   4918.00     56.00   999.00      7.00          1.40   \n",
       "\n",
       "       cons.price.idx  cons.conf.idx  euribor3m  nr.employed  \n",
       "count        41188.00       41188.00   41188.00     41188.00  \n",
       "mean            93.58         -40.50       3.62      5167.04  \n",
       "std              0.58           4.63       1.73        72.25  \n",
       "min             92.20         -50.80       0.63      4963.60  \n",
       "25%             93.08         -42.70       1.34      5099.10  \n",
       "50%             93.75         -41.80       4.86      5191.00  \n",
       "75%             93.99         -36.40       4.96      5228.10  \n",
       "max             94.77         -26.90       5.04      5228.10  "
      ]
     },
     "execution_count": 30,
     "metadata": {},
     "output_type": "execute_result"
    }
   ],
   "source": [
    "df.describe()"
   ]
  },
  {
   "cell_type": "markdown",
   "id": "78715e37",
   "metadata": {},
   "source": [
    "Inference : Method describe shows the main statistical characteristics of the dataset for each numerical feature (int64 and float64 types): the existing values number, mean, standard deviation, range, min & max, 0.25, 0.5 and 0.75 quartiles.\n",
    "\n",
    "The Mean row shows the feature average, STD is an RMS (Root Mean Square) deviation, min,max - the minimum and maximum values, 25%, 50%, 75%- quarters that split the dataset (or part of it) into four groups containing approximately an equal number of observations (rows). For example, the duration (duration) of about a quarter of calls to customers is around 100 seconds."
   ]
  },
  {
   "cell_type": "markdown",
   "id": "eaea8999",
   "metadata": {},
   "source": [
    "To see the statistics on non-numeric features, you need to explicitly specify the feature types by the include parameter. You can also set include = all to output statistics on all the existing features."
   ]
  },
  {
   "cell_type": "code",
   "execution_count": 31,
   "id": "fbdfb9c0",
   "metadata": {},
   "outputs": [
    {
     "data": {
      "text/html": [
       "<div>\n",
       "<style scoped>\n",
       "    .dataframe tbody tr th:only-of-type {\n",
       "        vertical-align: middle;\n",
       "    }\n",
       "\n",
       "    .dataframe tbody tr th {\n",
       "        vertical-align: top;\n",
       "    }\n",
       "\n",
       "    .dataframe thead th {\n",
       "        text-align: right;\n",
       "    }\n",
       "</style>\n",
       "<table border=\"1\" class=\"dataframe\">\n",
       "  <thead>\n",
       "    <tr style=\"text-align: right;\">\n",
       "      <th></th>\n",
       "      <th>job</th>\n",
       "      <th>marital</th>\n",
       "      <th>education</th>\n",
       "      <th>default</th>\n",
       "      <th>housing</th>\n",
       "      <th>loan</th>\n",
       "      <th>contact</th>\n",
       "      <th>month</th>\n",
       "      <th>day_of_week</th>\n",
       "      <th>poutcome</th>\n",
       "      <th>y</th>\n",
       "    </tr>\n",
       "  </thead>\n",
       "  <tbody>\n",
       "    <tr>\n",
       "      <th>count</th>\n",
       "      <td>41188</td>\n",
       "      <td>41188</td>\n",
       "      <td>41188</td>\n",
       "      <td>41188</td>\n",
       "      <td>41188</td>\n",
       "      <td>41188</td>\n",
       "      <td>41188</td>\n",
       "      <td>41188</td>\n",
       "      <td>41188</td>\n",
       "      <td>41188</td>\n",
       "      <td>41188</td>\n",
       "    </tr>\n",
       "    <tr>\n",
       "      <th>unique</th>\n",
       "      <td>12</td>\n",
       "      <td>4</td>\n",
       "      <td>8</td>\n",
       "      <td>3</td>\n",
       "      <td>3</td>\n",
       "      <td>3</td>\n",
       "      <td>2</td>\n",
       "      <td>10</td>\n",
       "      <td>5</td>\n",
       "      <td>3</td>\n",
       "      <td>2</td>\n",
       "    </tr>\n",
       "    <tr>\n",
       "      <th>top</th>\n",
       "      <td>admin.</td>\n",
       "      <td>married</td>\n",
       "      <td>university.degree</td>\n",
       "      <td>no</td>\n",
       "      <td>yes</td>\n",
       "      <td>no</td>\n",
       "      <td>cellular</td>\n",
       "      <td>may</td>\n",
       "      <td>thu</td>\n",
       "      <td>nonexistent</td>\n",
       "      <td>no</td>\n",
       "    </tr>\n",
       "    <tr>\n",
       "      <th>freq</th>\n",
       "      <td>10422</td>\n",
       "      <td>24928</td>\n",
       "      <td>12168</td>\n",
       "      <td>32588</td>\n",
       "      <td>21576</td>\n",
       "      <td>33950</td>\n",
       "      <td>26144</td>\n",
       "      <td>13769</td>\n",
       "      <td>8623</td>\n",
       "      <td>35563</td>\n",
       "      <td>36548</td>\n",
       "    </tr>\n",
       "  </tbody>\n",
       "</table>\n",
       "</div>"
      ],
      "text/plain": [
       "           job  marital          education default housing   loan   contact  \\\n",
       "count    41188    41188              41188   41188   41188  41188     41188   \n",
       "unique      12        4                  8       3       3      3         2   \n",
       "top     admin.  married  university.degree      no     yes     no  cellular   \n",
       "freq     10422    24928              12168   32588   21576  33950     26144   \n",
       "\n",
       "        month day_of_week     poutcome      y  \n",
       "count   41188       41188        41188  41188  \n",
       "unique     10           5            3      2  \n",
       "top       may         thu  nonexistent     no  \n",
       "freq    13769        8623        35563  36548  "
      ]
     },
     "execution_count": 31,
     "metadata": {},
     "output_type": "execute_result"
    }
   ],
   "source": [
    "df.describe(include = [\"object\"])"
   ]
  },
  {
   "cell_type": "markdown",
   "id": "72573f6a",
   "metadata": {},
   "source": [
    "The result shows that the average client refers to administrative staff (job = admin.), is married (marital = married) and has a university degree (education = university.degree).\n",
    "\n",
    "For categorical (type object) and boolean (type bool) features you can use the value_counts method. Let's look at the target feature (y) distribution:"
   ]
  },
  {
   "cell_type": "code",
   "execution_count": 32,
   "id": "521674f2",
   "metadata": {},
   "outputs": [
    {
     "data": {
      "text/plain": [
       "no     36548\n",
       "yes     4640\n",
       "Name: y, dtype: int64"
      ]
     },
     "execution_count": 32,
     "metadata": {},
     "output_type": "execute_result"
    }
   ],
   "source": [
    "df[\"y\"].value_counts()"
   ]
  },
  {
   "cell_type": "markdown",
   "id": "b85acc97",
   "metadata": {},
   "source": [
    "Inference : 4640 clients (11.3%) of 41188 issued a term deposit, the value of the variable y equals yes."
   ]
  },
  {
   "cell_type": "markdown",
   "id": "69700ac2",
   "metadata": {},
   "source": [
    "Let's look at the client distribution by the variable marital. Specify the value of the normalize = True parameter to view relative frequencies, but not absolute."
   ]
  },
  {
   "cell_type": "code",
   "execution_count": 34,
   "id": "5e9ddd4b",
   "metadata": {},
   "outputs": [
    {
     "data": {
      "text/plain": [
       "married     24928\n",
       "single      11568\n",
       "divorced     4612\n",
       "unknown        80\n",
       "Name: marital, dtype: int64"
      ]
     },
     "execution_count": 34,
     "metadata": {},
     "output_type": "execute_result"
    }
   ],
   "source": [
    "df['marital'].value_counts()"
   ]
  },
  {
   "cell_type": "code",
   "execution_count": 35,
   "id": "85148de7",
   "metadata": {},
   "outputs": [
    {
     "data": {
      "text/plain": [
       "married    0.61\n",
       "single     0.28\n",
       "divorced   0.11\n",
       "unknown    0.00\n",
       "Name: marital, dtype: float64"
      ]
     },
     "execution_count": 35,
     "metadata": {},
     "output_type": "execute_result"
    }
   ],
   "source": [
    "df['marital'].value_counts(normalize=True)"
   ]
  },
  {
   "cell_type": "markdown",
   "id": "0ac02e37",
   "metadata": {},
   "source": [
    "Inference : As we can see, 61% (0.61) of clients are married, which must be taken into account when planning marketing campaigns to manage deposit operations."
   ]
  },
  {
   "cell_type": "markdown",
   "id": "c3ffde76",
   "metadata": {},
   "source": [
    "### Sorting\n",
    "A DataFrame can be sorted by a few feature values. In our case, for example, by duration (ascending = False for sorting in descending order):"
   ]
  },
  {
   "cell_type": "code",
   "execution_count": 36,
   "id": "3d00f11b",
   "metadata": {},
   "outputs": [
    {
     "data": {
      "text/html": [
       "<div>\n",
       "<style scoped>\n",
       "    .dataframe tbody tr th:only-of-type {\n",
       "        vertical-align: middle;\n",
       "    }\n",
       "\n",
       "    .dataframe tbody tr th {\n",
       "        vertical-align: top;\n",
       "    }\n",
       "\n",
       "    .dataframe thead th {\n",
       "        text-align: right;\n",
       "    }\n",
       "</style>\n",
       "<table border=\"1\" class=\"dataframe\">\n",
       "  <thead>\n",
       "    <tr style=\"text-align: right;\">\n",
       "      <th></th>\n",
       "      <th>age</th>\n",
       "      <th>job</th>\n",
       "      <th>marital</th>\n",
       "      <th>education</th>\n",
       "      <th>default</th>\n",
       "      <th>housing</th>\n",
       "      <th>loan</th>\n",
       "      <th>contact</th>\n",
       "      <th>month</th>\n",
       "      <th>day_of_week</th>\n",
       "      <th>...</th>\n",
       "      <th>campaign</th>\n",
       "      <th>pdays</th>\n",
       "      <th>previous</th>\n",
       "      <th>poutcome</th>\n",
       "      <th>emp.var.rate</th>\n",
       "      <th>cons.price.idx</th>\n",
       "      <th>cons.conf.idx</th>\n",
       "      <th>euribor3m</th>\n",
       "      <th>nr.employed</th>\n",
       "      <th>y</th>\n",
       "    </tr>\n",
       "  </thead>\n",
       "  <tbody>\n",
       "    <tr>\n",
       "      <th>24091</th>\n",
       "      <td>33</td>\n",
       "      <td>technician</td>\n",
       "      <td>single</td>\n",
       "      <td>professional.course</td>\n",
       "      <td>no</td>\n",
       "      <td>yes</td>\n",
       "      <td>no</td>\n",
       "      <td>telephone</td>\n",
       "      <td>nov</td>\n",
       "      <td>mon</td>\n",
       "      <td>...</td>\n",
       "      <td>1</td>\n",
       "      <td>999</td>\n",
       "      <td>0</td>\n",
       "      <td>nonexistent</td>\n",
       "      <td>-0.10</td>\n",
       "      <td>93.20</td>\n",
       "      <td>-42.00</td>\n",
       "      <td>4.41</td>\n",
       "      <td>5195.80</td>\n",
       "      <td>no</td>\n",
       "    </tr>\n",
       "    <tr>\n",
       "      <th>22192</th>\n",
       "      <td>52</td>\n",
       "      <td>blue-collar</td>\n",
       "      <td>married</td>\n",
       "      <td>basic.4y</td>\n",
       "      <td>no</td>\n",
       "      <td>no</td>\n",
       "      <td>no</td>\n",
       "      <td>telephone</td>\n",
       "      <td>aug</td>\n",
       "      <td>thu</td>\n",
       "      <td>...</td>\n",
       "      <td>3</td>\n",
       "      <td>999</td>\n",
       "      <td>0</td>\n",
       "      <td>nonexistent</td>\n",
       "      <td>1.40</td>\n",
       "      <td>93.44</td>\n",
       "      <td>-36.10</td>\n",
       "      <td>4.96</td>\n",
       "      <td>5228.10</td>\n",
       "      <td>yes</td>\n",
       "    </tr>\n",
       "    <tr>\n",
       "      <th>40537</th>\n",
       "      <td>27</td>\n",
       "      <td>admin.</td>\n",
       "      <td>single</td>\n",
       "      <td>high.school</td>\n",
       "      <td>no</td>\n",
       "      <td>no</td>\n",
       "      <td>no</td>\n",
       "      <td>telephone</td>\n",
       "      <td>aug</td>\n",
       "      <td>fri</td>\n",
       "      <td>...</td>\n",
       "      <td>1</td>\n",
       "      <td>999</td>\n",
       "      <td>0</td>\n",
       "      <td>nonexistent</td>\n",
       "      <td>-1.70</td>\n",
       "      <td>94.03</td>\n",
       "      <td>-38.30</td>\n",
       "      <td>0.89</td>\n",
       "      <td>4991.60</td>\n",
       "      <td>no</td>\n",
       "    </tr>\n",
       "    <tr>\n",
       "      <th>13820</th>\n",
       "      <td>31</td>\n",
       "      <td>technician</td>\n",
       "      <td>married</td>\n",
       "      <td>professional.course</td>\n",
       "      <td>no</td>\n",
       "      <td>no</td>\n",
       "      <td>no</td>\n",
       "      <td>cellular</td>\n",
       "      <td>jul</td>\n",
       "      <td>thu</td>\n",
       "      <td>...</td>\n",
       "      <td>1</td>\n",
       "      <td>999</td>\n",
       "      <td>0</td>\n",
       "      <td>nonexistent</td>\n",
       "      <td>1.40</td>\n",
       "      <td>93.92</td>\n",
       "      <td>-42.70</td>\n",
       "      <td>4.96</td>\n",
       "      <td>5228.10</td>\n",
       "      <td>yes</td>\n",
       "    </tr>\n",
       "    <tr>\n",
       "      <th>7727</th>\n",
       "      <td>37</td>\n",
       "      <td>unemployed</td>\n",
       "      <td>married</td>\n",
       "      <td>professional.course</td>\n",
       "      <td>no</td>\n",
       "      <td>yes</td>\n",
       "      <td>no</td>\n",
       "      <td>telephone</td>\n",
       "      <td>may</td>\n",
       "      <td>fri</td>\n",
       "      <td>...</td>\n",
       "      <td>2</td>\n",
       "      <td>999</td>\n",
       "      <td>0</td>\n",
       "      <td>nonexistent</td>\n",
       "      <td>1.10</td>\n",
       "      <td>93.99</td>\n",
       "      <td>-36.40</td>\n",
       "      <td>4.86</td>\n",
       "      <td>5191.00</td>\n",
       "      <td>yes</td>\n",
       "    </tr>\n",
       "  </tbody>\n",
       "</table>\n",
       "<p>5 rows × 21 columns</p>\n",
       "</div>"
      ],
      "text/plain": [
       "       age          job  marital            education default housing loan  \\\n",
       "24091   33   technician   single  professional.course      no     yes   no   \n",
       "22192   52  blue-collar  married             basic.4y      no      no   no   \n",
       "40537   27       admin.   single          high.school      no      no   no   \n",
       "13820   31   technician  married  professional.course      no      no   no   \n",
       "7727    37   unemployed  married  professional.course      no     yes   no   \n",
       "\n",
       "         contact month day_of_week  ...  campaign  pdays  previous  \\\n",
       "24091  telephone   nov         mon  ...         1    999         0   \n",
       "22192  telephone   aug         thu  ...         3    999         0   \n",
       "40537  telephone   aug         fri  ...         1    999         0   \n",
       "13820   cellular   jul         thu  ...         1    999         0   \n",
       "7727   telephone   may         fri  ...         2    999         0   \n",
       "\n",
       "          poutcome emp.var.rate  cons.price.idx  cons.conf.idx  euribor3m  \\\n",
       "24091  nonexistent        -0.10           93.20         -42.00       4.41   \n",
       "22192  nonexistent         1.40           93.44         -36.10       4.96   \n",
       "40537  nonexistent        -1.70           94.03         -38.30       0.89   \n",
       "13820  nonexistent         1.40           93.92         -42.70       4.96   \n",
       "7727   nonexistent         1.10           93.99         -36.40       4.86   \n",
       "\n",
       "       nr.employed    y  \n",
       "24091      5195.80   no  \n",
       "22192      5228.10  yes  \n",
       "40537      4991.60   no  \n",
       "13820      5228.10  yes  \n",
       "7727       5191.00  yes  \n",
       "\n",
       "[5 rows x 21 columns]"
      ]
     },
     "execution_count": 36,
     "metadata": {},
     "output_type": "execute_result"
    }
   ],
   "source": [
    "df.sort_values(by = \"duration\", ascending = False).head()"
   ]
  },
  {
   "cell_type": "markdown",
   "id": "879756e7",
   "metadata": {},
   "source": [
    "Inference : The sorting results show that the longest calls exceed one hour, as the value duration is more than 3600 seconds or 1 hour. At the same time, it usually was on Mondays and Thursdays (day_of_week) and, especially, in November and August (month).\n",
    "\n",
    "Sort by the column group:"
   ]
  },
  {
   "cell_type": "code",
   "execution_count": 37,
   "id": "f8b9701f",
   "metadata": {},
   "outputs": [
    {
     "data": {
      "text/html": [
       "<div>\n",
       "<style scoped>\n",
       "    .dataframe tbody tr th:only-of-type {\n",
       "        vertical-align: middle;\n",
       "    }\n",
       "\n",
       "    .dataframe tbody tr th {\n",
       "        vertical-align: top;\n",
       "    }\n",
       "\n",
       "    .dataframe thead th {\n",
       "        text-align: right;\n",
       "    }\n",
       "</style>\n",
       "<table border=\"1\" class=\"dataframe\">\n",
       "  <thead>\n",
       "    <tr style=\"text-align: right;\">\n",
       "      <th></th>\n",
       "      <th>age</th>\n",
       "      <th>job</th>\n",
       "      <th>marital</th>\n",
       "      <th>education</th>\n",
       "      <th>default</th>\n",
       "      <th>housing</th>\n",
       "      <th>loan</th>\n",
       "      <th>contact</th>\n",
       "      <th>month</th>\n",
       "      <th>day_of_week</th>\n",
       "      <th>...</th>\n",
       "      <th>campaign</th>\n",
       "      <th>pdays</th>\n",
       "      <th>previous</th>\n",
       "      <th>poutcome</th>\n",
       "      <th>emp.var.rate</th>\n",
       "      <th>cons.price.idx</th>\n",
       "      <th>cons.conf.idx</th>\n",
       "      <th>euribor3m</th>\n",
       "      <th>nr.employed</th>\n",
       "      <th>y</th>\n",
       "    </tr>\n",
       "  </thead>\n",
       "  <tbody>\n",
       "    <tr>\n",
       "      <th>38274</th>\n",
       "      <td>17</td>\n",
       "      <td>student</td>\n",
       "      <td>single</td>\n",
       "      <td>unknown</td>\n",
       "      <td>no</td>\n",
       "      <td>no</td>\n",
       "      <td>yes</td>\n",
       "      <td>cellular</td>\n",
       "      <td>oct</td>\n",
       "      <td>tue</td>\n",
       "      <td>...</td>\n",
       "      <td>1</td>\n",
       "      <td>2</td>\n",
       "      <td>2</td>\n",
       "      <td>success</td>\n",
       "      <td>-3.40</td>\n",
       "      <td>92.43</td>\n",
       "      <td>-26.90</td>\n",
       "      <td>0.74</td>\n",
       "      <td>5017.50</td>\n",
       "      <td>yes</td>\n",
       "    </tr>\n",
       "    <tr>\n",
       "      <th>37579</th>\n",
       "      <td>17</td>\n",
       "      <td>student</td>\n",
       "      <td>single</td>\n",
       "      <td>basic.9y</td>\n",
       "      <td>no</td>\n",
       "      <td>unknown</td>\n",
       "      <td>unknown</td>\n",
       "      <td>cellular</td>\n",
       "      <td>aug</td>\n",
       "      <td>fri</td>\n",
       "      <td>...</td>\n",
       "      <td>2</td>\n",
       "      <td>999</td>\n",
       "      <td>1</td>\n",
       "      <td>failure</td>\n",
       "      <td>-2.90</td>\n",
       "      <td>92.20</td>\n",
       "      <td>-31.40</td>\n",
       "      <td>0.87</td>\n",
       "      <td>5076.20</td>\n",
       "      <td>yes</td>\n",
       "    </tr>\n",
       "    <tr>\n",
       "      <th>37140</th>\n",
       "      <td>17</td>\n",
       "      <td>student</td>\n",
       "      <td>single</td>\n",
       "      <td>unknown</td>\n",
       "      <td>no</td>\n",
       "      <td>yes</td>\n",
       "      <td>no</td>\n",
       "      <td>cellular</td>\n",
       "      <td>aug</td>\n",
       "      <td>wed</td>\n",
       "      <td>...</td>\n",
       "      <td>3</td>\n",
       "      <td>4</td>\n",
       "      <td>2</td>\n",
       "      <td>success</td>\n",
       "      <td>-2.90</td>\n",
       "      <td>92.20</td>\n",
       "      <td>-31.40</td>\n",
       "      <td>0.88</td>\n",
       "      <td>5076.20</td>\n",
       "      <td>no</td>\n",
       "    </tr>\n",
       "    <tr>\n",
       "      <th>37539</th>\n",
       "      <td>17</td>\n",
       "      <td>student</td>\n",
       "      <td>single</td>\n",
       "      <td>basic.9y</td>\n",
       "      <td>no</td>\n",
       "      <td>yes</td>\n",
       "      <td>no</td>\n",
       "      <td>cellular</td>\n",
       "      <td>aug</td>\n",
       "      <td>fri</td>\n",
       "      <td>...</td>\n",
       "      <td>2</td>\n",
       "      <td>999</td>\n",
       "      <td>2</td>\n",
       "      <td>failure</td>\n",
       "      <td>-2.90</td>\n",
       "      <td>92.20</td>\n",
       "      <td>-31.40</td>\n",
       "      <td>0.87</td>\n",
       "      <td>5076.20</td>\n",
       "      <td>no</td>\n",
       "    </tr>\n",
       "    <tr>\n",
       "      <th>37558</th>\n",
       "      <td>17</td>\n",
       "      <td>student</td>\n",
       "      <td>single</td>\n",
       "      <td>basic.9y</td>\n",
       "      <td>no</td>\n",
       "      <td>yes</td>\n",
       "      <td>no</td>\n",
       "      <td>cellular</td>\n",
       "      <td>aug</td>\n",
       "      <td>fri</td>\n",
       "      <td>...</td>\n",
       "      <td>3</td>\n",
       "      <td>4</td>\n",
       "      <td>2</td>\n",
       "      <td>success</td>\n",
       "      <td>-2.90</td>\n",
       "      <td>92.20</td>\n",
       "      <td>-31.40</td>\n",
       "      <td>0.87</td>\n",
       "      <td>5076.20</td>\n",
       "      <td>no</td>\n",
       "    </tr>\n",
       "  </tbody>\n",
       "</table>\n",
       "<p>5 rows × 21 columns</p>\n",
       "</div>"
      ],
      "text/plain": [
       "       age      job marital education default  housing     loan   contact  \\\n",
       "38274   17  student  single   unknown      no       no      yes  cellular   \n",
       "37579   17  student  single  basic.9y      no  unknown  unknown  cellular   \n",
       "37140   17  student  single   unknown      no      yes       no  cellular   \n",
       "37539   17  student  single  basic.9y      no      yes       no  cellular   \n",
       "37558   17  student  single  basic.9y      no      yes       no  cellular   \n",
       "\n",
       "      month day_of_week  ...  campaign  pdays  previous  poutcome  \\\n",
       "38274   oct         tue  ...         1      2         2   success   \n",
       "37579   aug         fri  ...         2    999         1   failure   \n",
       "37140   aug         wed  ...         3      4         2   success   \n",
       "37539   aug         fri  ...         2    999         2   failure   \n",
       "37558   aug         fri  ...         3      4         2   success   \n",
       "\n",
       "      emp.var.rate  cons.price.idx  cons.conf.idx  euribor3m  nr.employed    y  \n",
       "38274        -3.40           92.43         -26.90       0.74      5017.50  yes  \n",
       "37579        -2.90           92.20         -31.40       0.87      5076.20  yes  \n",
       "37140        -2.90           92.20         -31.40       0.88      5076.20   no  \n",
       "37539        -2.90           92.20         -31.40       0.87      5076.20   no  \n",
       "37558        -2.90           92.20         -31.40       0.87      5076.20   no  \n",
       "\n",
       "[5 rows x 21 columns]"
      ]
     },
     "execution_count": 37,
     "metadata": {},
     "output_type": "execute_result"
    }
   ],
   "source": [
    "df.sort_values(by = [\"age\", \"duration\"], ascending = [True, False]).head()"
   ]
  },
  {
   "cell_type": "markdown",
   "id": "2d465342",
   "metadata": {},
   "source": [
    "Inference : We see that the youngest customers are at the age of 17, and the call duration exceeded 3 minutes only for three clients, which indicates the ineffectiveness of long-term interaction with such clients."
   ]
  },
  {
   "cell_type": "markdown",
   "id": "7420e884",
   "metadata": {},
   "source": [
    "### Application of functions: apply, map etc.\n",
    "Apply the function to each column:"
   ]
  },
  {
   "cell_type": "code",
   "execution_count": 42,
   "id": "74f5b202",
   "metadata": {},
   "outputs": [
    {
     "data": {
      "text/plain": [
       "age                      98\n",
       "job                 unknown\n",
       "marital             unknown\n",
       "education           unknown\n",
       "default                 yes\n",
       "housing                 yes\n",
       "loan                    yes\n",
       "contact           telephone\n",
       "month                   sep\n",
       "day_of_week             wed\n",
       "duration               4918\n",
       "campaign                 56\n",
       "pdays                   999\n",
       "previous                  7\n",
       "poutcome            success\n",
       "emp.var.rate           1.40\n",
       "cons.price.idx        94.77\n",
       "cons.conf.idx        -26.90\n",
       "euribor3m              5.04\n",
       "nr.employed         5228.10\n",
       "y                       yes\n",
       "dtype: object"
      ]
     },
     "execution_count": 42,
     "metadata": {},
     "output_type": "execute_result"
    }
   ],
   "source": [
    "df.apply(np.max)"
   ]
  },
  {
   "cell_type": "markdown",
   "id": "d8bb5583",
   "metadata": {},
   "source": [
    "Inference : The oldest client is 98 years old (age = 98), and the number of contacts with one of the customers reached 56 (campaign = 56).\n",
    "\n",
    "Note : The apply method can also be used to apply the function to each row. To do this, you need to specify the axis = 1."
   ]
  },
  {
   "cell_type": "markdown",
   "id": "751d5246",
   "metadata": {},
   "source": [
    "### Apply the function to each column cell\n",
    "\n",
    "The map can also be used for the values ​​replacement in a column by passing it as an argument dictionary in form of {old_value: new_value}."
   ]
  },
  {
   "cell_type": "code",
   "execution_count": 43,
   "id": "e8741996",
   "metadata": {},
   "outputs": [
    {
     "data": {
      "text/html": [
       "<div>\n",
       "<style scoped>\n",
       "    .dataframe tbody tr th:only-of-type {\n",
       "        vertical-align: middle;\n",
       "    }\n",
       "\n",
       "    .dataframe tbody tr th {\n",
       "        vertical-align: top;\n",
       "    }\n",
       "\n",
       "    .dataframe thead th {\n",
       "        text-align: right;\n",
       "    }\n",
       "</style>\n",
       "<table border=\"1\" class=\"dataframe\">\n",
       "  <thead>\n",
       "    <tr style=\"text-align: right;\">\n",
       "      <th></th>\n",
       "      <th>age</th>\n",
       "      <th>job</th>\n",
       "      <th>marital</th>\n",
       "      <th>education</th>\n",
       "      <th>default</th>\n",
       "      <th>housing</th>\n",
       "      <th>loan</th>\n",
       "      <th>contact</th>\n",
       "      <th>month</th>\n",
       "      <th>day_of_week</th>\n",
       "      <th>...</th>\n",
       "      <th>campaign</th>\n",
       "      <th>pdays</th>\n",
       "      <th>previous</th>\n",
       "      <th>poutcome</th>\n",
       "      <th>emp.var.rate</th>\n",
       "      <th>cons.price.idx</th>\n",
       "      <th>cons.conf.idx</th>\n",
       "      <th>euribor3m</th>\n",
       "      <th>nr.employed</th>\n",
       "      <th>y</th>\n",
       "    </tr>\n",
       "  </thead>\n",
       "  <tbody>\n",
       "    <tr>\n",
       "      <th>0</th>\n",
       "      <td>56</td>\n",
       "      <td>housemaid</td>\n",
       "      <td>married</td>\n",
       "      <td>basic.4y</td>\n",
       "      <td>no</td>\n",
       "      <td>no</td>\n",
       "      <td>no</td>\n",
       "      <td>telephone</td>\n",
       "      <td>may</td>\n",
       "      <td>mon</td>\n",
       "      <td>...</td>\n",
       "      <td>1</td>\n",
       "      <td>999</td>\n",
       "      <td>0</td>\n",
       "      <td>nonexistent</td>\n",
       "      <td>1.10</td>\n",
       "      <td>93.99</td>\n",
       "      <td>-36.40</td>\n",
       "      <td>4.86</td>\n",
       "      <td>5191.00</td>\n",
       "      <td>0</td>\n",
       "    </tr>\n",
       "    <tr>\n",
       "      <th>1</th>\n",
       "      <td>57</td>\n",
       "      <td>services</td>\n",
       "      <td>married</td>\n",
       "      <td>high.school</td>\n",
       "      <td>unknown</td>\n",
       "      <td>no</td>\n",
       "      <td>no</td>\n",
       "      <td>telephone</td>\n",
       "      <td>may</td>\n",
       "      <td>mon</td>\n",
       "      <td>...</td>\n",
       "      <td>1</td>\n",
       "      <td>999</td>\n",
       "      <td>0</td>\n",
       "      <td>nonexistent</td>\n",
       "      <td>1.10</td>\n",
       "      <td>93.99</td>\n",
       "      <td>-36.40</td>\n",
       "      <td>4.86</td>\n",
       "      <td>5191.00</td>\n",
       "      <td>0</td>\n",
       "    </tr>\n",
       "    <tr>\n",
       "      <th>2</th>\n",
       "      <td>37</td>\n",
       "      <td>services</td>\n",
       "      <td>married</td>\n",
       "      <td>high.school</td>\n",
       "      <td>no</td>\n",
       "      <td>yes</td>\n",
       "      <td>no</td>\n",
       "      <td>telephone</td>\n",
       "      <td>may</td>\n",
       "      <td>mon</td>\n",
       "      <td>...</td>\n",
       "      <td>1</td>\n",
       "      <td>999</td>\n",
       "      <td>0</td>\n",
       "      <td>nonexistent</td>\n",
       "      <td>1.10</td>\n",
       "      <td>93.99</td>\n",
       "      <td>-36.40</td>\n",
       "      <td>4.86</td>\n",
       "      <td>5191.00</td>\n",
       "      <td>0</td>\n",
       "    </tr>\n",
       "    <tr>\n",
       "      <th>3</th>\n",
       "      <td>40</td>\n",
       "      <td>admin.</td>\n",
       "      <td>married</td>\n",
       "      <td>basic.6y</td>\n",
       "      <td>no</td>\n",
       "      <td>no</td>\n",
       "      <td>no</td>\n",
       "      <td>telephone</td>\n",
       "      <td>may</td>\n",
       "      <td>mon</td>\n",
       "      <td>...</td>\n",
       "      <td>1</td>\n",
       "      <td>999</td>\n",
       "      <td>0</td>\n",
       "      <td>nonexistent</td>\n",
       "      <td>1.10</td>\n",
       "      <td>93.99</td>\n",
       "      <td>-36.40</td>\n",
       "      <td>4.86</td>\n",
       "      <td>5191.00</td>\n",
       "      <td>0</td>\n",
       "    </tr>\n",
       "    <tr>\n",
       "      <th>4</th>\n",
       "      <td>56</td>\n",
       "      <td>services</td>\n",
       "      <td>married</td>\n",
       "      <td>high.school</td>\n",
       "      <td>no</td>\n",
       "      <td>no</td>\n",
       "      <td>yes</td>\n",
       "      <td>telephone</td>\n",
       "      <td>may</td>\n",
       "      <td>mon</td>\n",
       "      <td>...</td>\n",
       "      <td>1</td>\n",
       "      <td>999</td>\n",
       "      <td>0</td>\n",
       "      <td>nonexistent</td>\n",
       "      <td>1.10</td>\n",
       "      <td>93.99</td>\n",
       "      <td>-36.40</td>\n",
       "      <td>4.86</td>\n",
       "      <td>5191.00</td>\n",
       "      <td>0</td>\n",
       "    </tr>\n",
       "  </tbody>\n",
       "</table>\n",
       "<p>5 rows × 21 columns</p>\n",
       "</div>"
      ],
      "text/plain": [
       "   age        job  marital    education  default housing loan    contact  \\\n",
       "0   56  housemaid  married     basic.4y       no      no   no  telephone   \n",
       "1   57   services  married  high.school  unknown      no   no  telephone   \n",
       "2   37   services  married  high.school       no     yes   no  telephone   \n",
       "3   40     admin.  married     basic.6y       no      no   no  telephone   \n",
       "4   56   services  married  high.school       no      no  yes  telephone   \n",
       "\n",
       "  month day_of_week  ...  campaign  pdays  previous     poutcome emp.var.rate  \\\n",
       "0   may         mon  ...         1    999         0  nonexistent         1.10   \n",
       "1   may         mon  ...         1    999         0  nonexistent         1.10   \n",
       "2   may         mon  ...         1    999         0  nonexistent         1.10   \n",
       "3   may         mon  ...         1    999         0  nonexistent         1.10   \n",
       "4   may         mon  ...         1    999         0  nonexistent         1.10   \n",
       "\n",
       "   cons.price.idx  cons.conf.idx  euribor3m  nr.employed  y  \n",
       "0           93.99         -36.40       4.86      5191.00  0  \n",
       "1           93.99         -36.40       4.86      5191.00  0  \n",
       "2           93.99         -36.40       4.86      5191.00  0  \n",
       "3           93.99         -36.40       4.86      5191.00  0  \n",
       "4           93.99         -36.40       4.86      5191.00  0  \n",
       "\n",
       "[5 rows x 21 columns]"
      ]
     },
     "execution_count": 43,
     "metadata": {},
     "output_type": "execute_result"
    }
   ],
   "source": [
    "d = {\"no\": 0, \"yes\": 1}\n",
    "df[\"y\"] = df[\"y\"].map(d)\n",
    "df.head()"
   ]
  },
  {
   "cell_type": "markdown",
   "id": "69493d13",
   "metadata": {},
   "source": [
    "### Indexing and extracting data\n",
    "A DataFrame can be indexed in many ways. \n",
    "We use this to answer some of the questions "
   ]
  },
  {
   "cell_type": "markdown",
   "id": "ba19768b",
   "metadata": {},
   "source": [
    "\n",
    "#### What is the share of clients attracted in our DataFrame?"
   ]
  },
  {
   "cell_type": "code",
   "execution_count": 45,
   "id": "82ac5cbd",
   "metadata": {},
   "outputs": [
    {
     "name": "stdout",
     "output_type": "stream",
     "text": [
      "Share of attracted clients = 11.3%\n"
     ]
    }
   ],
   "source": [
    "print(\"Share of attracted clients =\", '{:.1%}'.format(df[\"y\"].mean()))"
   ]
  },
  {
   "cell_type": "code",
   "execution_count": 49,
   "id": "ca68ec58",
   "metadata": {},
   "outputs": [
    {
     "name": "stdout",
     "output_type": "stream",
     "text": [
      "Share of attracted clients = 11.27%\n"
     ]
    }
   ],
   "source": [
    "print(\"Share of attracted clients =\", '{:.2%}'.format(df[\"y\"].mean()))"
   ]
  },
  {
   "cell_type": "markdown",
   "id": "9320eb98",
   "metadata": {},
   "source": [
    "The precision has been set to 1 and 2 respectively in each of the cases above. To understand the percentage share calculation see below - "
   ]
  },
  {
   "cell_type": "code",
   "execution_count": 51,
   "id": "a526ff98",
   "metadata": {},
   "outputs": [
    {
     "data": {
      "text/plain": [
       "0    36548\n",
       "1     4640\n",
       "Name: y, dtype: int64"
      ]
     },
     "execution_count": 51,
     "metadata": {},
     "output_type": "execute_result"
    }
   ],
   "source": [
    "df[\"y\"].value_counts()"
   ]
  },
  {
   "cell_type": "markdown",
   "id": "457bda64",
   "metadata": {},
   "source": [
    "Total = 36548 + 4650 equals to 41188. We have already seen 4640 clients (11.3%) of 41188 issued a term deposit, the value of the variable y equals yes. (4640 * 100 / 41188 = 11.27%) "
   ]
  },
  {
   "cell_type": "markdown",
   "id": "26df8c69",
   "metadata": {},
   "source": [
    "Inference : 11.3% is a rather bad indicator for a bank, with such a percentage of attracted customers a business can collapse."
   ]
  },
  {
   "cell_type": "markdown",
   "id": "6522b39f",
   "metadata": {},
   "source": [
    "Logical indexation by one column of a DataFrame is very convenient. It looks like this: df [p(df['Name']], where p is a certain logical condition that is checked for each element of the Name column. The result of such an indexation is a DataFrame consisting only of the rows satisfying the condition p by the Name column."
   ]
  },
  {
   "cell_type": "markdown",
   "id": "576388bf",
   "metadata": {},
   "source": [
    "#### What are the mean values of numerical features among the attracted clients?"
   ]
  },
  {
   "cell_type": "code",
   "execution_count": 52,
   "id": "e3c0d6b7",
   "metadata": {},
   "outputs": [
    {
     "data": {
      "text/plain": [
       "age                40.91\n",
       "duration          553.19\n",
       "campaign            2.05\n",
       "pdays             792.04\n",
       "previous            0.49\n",
       "emp.var.rate       -1.23\n",
       "cons.price.idx     93.35\n",
       "cons.conf.idx     -39.79\n",
       "euribor3m           2.12\n",
       "nr.employed      5095.12\n",
       "y                   1.00\n",
       "dtype: float64"
      ]
     },
     "execution_count": 52,
     "metadata": {},
     "output_type": "execute_result"
    }
   ],
   "source": [
    "df[df[\"y\"] == 1].mean()"
   ]
  },
  {
   "cell_type": "markdown",
   "id": "f0560baa",
   "metadata": {},
   "source": [
    "Inference  : Thus, the average age of the attracted clients is about 40 (age = 40.91), and 2 calls were required to attract them (campaign = 2.05)."
   ]
  },
  {
   "cell_type": "markdown",
   "id": "7fcf0955",
   "metadata": {},
   "source": [
    "#### What is the average call duration for the attracted clients?"
   ]
  },
  {
   "cell_type": "code",
   "execution_count": 57,
   "id": "361f9ecb",
   "metadata": {},
   "outputs": [
    {
     "name": "stdout",
     "output_type": "stream",
     "text": [
      "Average call duration for attracted clients = 9.0 min 13 sec\n"
     ]
    }
   ],
   "source": [
    "acd = round(df[df[\"y\"] == 1][\"duration\"].mean(),2)\n",
    "acd_in_min = acd // 60\n",
    "print(\"Average call duration for attracted clients =\", acd_in_min, \"min\", int(acd) % 60, \"sec\")"
   ]
  },
  {
   "cell_type": "markdown",
   "id": "9254eb74",
   "metadata": {},
   "source": [
    "#### What is the average age of attracted (y == 1) and unmarried ('marital' == 'single') clients?"
   ]
  },
  {
   "cell_type": "code",
   "execution_count": 59,
   "id": "8e26894c",
   "metadata": {},
   "outputs": [
    {
     "name": "stdout",
     "output_type": "stream",
     "text": [
      "Average age of attracted clients = 31 years\n"
     ]
    }
   ],
   "source": [
    "print(\"Average age of attracted clients =\", int(df[(df[\"y\"] == 1) & (df[\"marital\"] == \"single\")][\"age\"].mean()), \"years\")"
   ]
  },
  {
   "cell_type": "markdown",
   "id": "7bb02257",
   "metadata": {},
   "source": [
    "Inference : The average age of unmarried attracted clients is 31, which should be considered when working with such clients."
   ]
  },
  {
   "cell_type": "markdown",
   "id": "3b55bec8",
   "metadata": {},
   "source": [
    "### Pivot tables\n",
    "Suppose we want to see how observations in our sample are distributed in the context of two features - y and marital. To do this, we can build cross tabulation by the crosstab method."
   ]
  },
  {
   "cell_type": "code",
   "execution_count": 61,
   "id": "e9dd5efb",
   "metadata": {},
   "outputs": [
    {
     "data": {
      "text/html": [
       "<div>\n",
       "<style scoped>\n",
       "    .dataframe tbody tr th:only-of-type {\n",
       "        vertical-align: middle;\n",
       "    }\n",
       "\n",
       "    .dataframe tbody tr th {\n",
       "        vertical-align: top;\n",
       "    }\n",
       "\n",
       "    .dataframe thead th {\n",
       "        text-align: right;\n",
       "    }\n",
       "</style>\n",
       "<table border=\"1\" class=\"dataframe\">\n",
       "  <thead>\n",
       "    <tr style=\"text-align: right;\">\n",
       "      <th>marital</th>\n",
       "      <th>divorced</th>\n",
       "      <th>married</th>\n",
       "      <th>single</th>\n",
       "      <th>unknown</th>\n",
       "    </tr>\n",
       "    <tr>\n",
       "      <th>y</th>\n",
       "      <th></th>\n",
       "      <th></th>\n",
       "      <th></th>\n",
       "      <th></th>\n",
       "    </tr>\n",
       "  </thead>\n",
       "  <tbody>\n",
       "    <tr>\n",
       "      <th>0</th>\n",
       "      <td>4136</td>\n",
       "      <td>22396</td>\n",
       "      <td>9948</td>\n",
       "      <td>68</td>\n",
       "    </tr>\n",
       "    <tr>\n",
       "      <th>1</th>\n",
       "      <td>476</td>\n",
       "      <td>2532</td>\n",
       "      <td>1620</td>\n",
       "      <td>12</td>\n",
       "    </tr>\n",
       "  </tbody>\n",
       "</table>\n",
       "</div>"
      ],
      "text/plain": [
       "marital  divorced  married  single  unknown\n",
       "y                                          \n",
       "0            4136    22396    9948       68\n",
       "1             476     2532    1620       12"
      ]
     },
     "execution_count": 61,
     "metadata": {},
     "output_type": "execute_result"
    }
   ],
   "source": [
    "pd.crosstab(df[\"y\"], df[\"marital\"])"
   ]
  },
  {
   "cell_type": "code",
   "execution_count": 62,
   "id": "c8b1226c",
   "metadata": {},
   "outputs": [
    {
     "data": {
      "text/html": [
       "<div>\n",
       "<style scoped>\n",
       "    .dataframe tbody tr th:only-of-type {\n",
       "        vertical-align: middle;\n",
       "    }\n",
       "\n",
       "    .dataframe tbody tr th {\n",
       "        vertical-align: top;\n",
       "    }\n",
       "\n",
       "    .dataframe thead th {\n",
       "        text-align: right;\n",
       "    }\n",
       "</style>\n",
       "<table border=\"1\" class=\"dataframe\">\n",
       "  <thead>\n",
       "    <tr style=\"text-align: right;\">\n",
       "      <th>marital</th>\n",
       "      <th>divorced</th>\n",
       "      <th>married</th>\n",
       "      <th>single</th>\n",
       "      <th>unknown</th>\n",
       "    </tr>\n",
       "    <tr>\n",
       "      <th>y</th>\n",
       "      <th></th>\n",
       "      <th></th>\n",
       "      <th></th>\n",
       "      <th></th>\n",
       "    </tr>\n",
       "  </thead>\n",
       "  <tbody>\n",
       "    <tr>\n",
       "      <th>0</th>\n",
       "      <td>0.11</td>\n",
       "      <td>0.61</td>\n",
       "      <td>0.27</td>\n",
       "      <td>0.00</td>\n",
       "    </tr>\n",
       "    <tr>\n",
       "      <th>1</th>\n",
       "      <td>0.10</td>\n",
       "      <td>0.55</td>\n",
       "      <td>0.35</td>\n",
       "      <td>0.00</td>\n",
       "    </tr>\n",
       "  </tbody>\n",
       "</table>\n",
       "</div>"
      ],
      "text/plain": [
       "marital  divorced  married  single  unknown\n",
       "y                                          \n",
       "0            0.11     0.61    0.27     0.00\n",
       "1            0.10     0.55    0.35     0.00"
      ]
     },
     "execution_count": 62,
     "metadata": {},
     "output_type": "execute_result"
    }
   ],
   "source": [
    "pd.crosstab(df[\"y\"],\n",
    "            df[\"marital\"],\n",
    "            normalize = 'index')"
   ]
  },
  {
   "cell_type": "markdown",
   "id": "81dd9674",
   "metadata": {},
   "source": [
    "The result shows that the number of attracted married clients is 2532 (y = 1 for married) from the total number.\n",
    "\n",
    "We see that more than half of the clients (61%, column married) are married and have not issued a deposit.\n",
    "\n",
    "In Pandas, pivot tables are implemented by the method pivot_table with such parameters:\n",
    "\n",
    "values – a list of variables to calculate the necessary statistics,\n",
    "index – a list of variables to group data,\n",
    "aggfunc — values that we actually need to count by groups - the amount, average, maximum, minimum or something else.\n",
    "Let's find the average age and the call duration for different types of client employment job:\n",
    "\n"
   ]
  },
  {
   "cell_type": "code",
   "execution_count": 63,
   "id": "cea40dcd",
   "metadata": {},
   "outputs": [
    {
     "data": {
      "text/html": [
       "<div>\n",
       "<style scoped>\n",
       "    .dataframe tbody tr th:only-of-type {\n",
       "        vertical-align: middle;\n",
       "    }\n",
       "\n",
       "    .dataframe tbody tr th {\n",
       "        vertical-align: top;\n",
       "    }\n",
       "\n",
       "    .dataframe thead th {\n",
       "        text-align: right;\n",
       "    }\n",
       "</style>\n",
       "<table border=\"1\" class=\"dataframe\">\n",
       "  <thead>\n",
       "    <tr style=\"text-align: right;\">\n",
       "      <th></th>\n",
       "      <th>age</th>\n",
       "      <th>duration</th>\n",
       "    </tr>\n",
       "    <tr>\n",
       "      <th>job</th>\n",
       "      <th></th>\n",
       "      <th></th>\n",
       "    </tr>\n",
       "  </thead>\n",
       "  <tbody>\n",
       "    <tr>\n",
       "      <th>admin.</th>\n",
       "      <td>38.19</td>\n",
       "      <td>254.31</td>\n",
       "    </tr>\n",
       "    <tr>\n",
       "      <th>blue-collar</th>\n",
       "      <td>39.56</td>\n",
       "      <td>264.54</td>\n",
       "    </tr>\n",
       "    <tr>\n",
       "      <th>entrepreneur</th>\n",
       "      <td>41.72</td>\n",
       "      <td>263.27</td>\n",
       "    </tr>\n",
       "    <tr>\n",
       "      <th>housemaid</th>\n",
       "      <td>45.50</td>\n",
       "      <td>250.45</td>\n",
       "    </tr>\n",
       "    <tr>\n",
       "      <th>management</th>\n",
       "      <td>42.36</td>\n",
       "      <td>257.06</td>\n",
       "    </tr>\n",
       "    <tr>\n",
       "      <th>retired</th>\n",
       "      <td>62.03</td>\n",
       "      <td>273.71</td>\n",
       "    </tr>\n",
       "    <tr>\n",
       "      <th>self-employed</th>\n",
       "      <td>39.95</td>\n",
       "      <td>264.14</td>\n",
       "    </tr>\n",
       "    <tr>\n",
       "      <th>services</th>\n",
       "      <td>37.93</td>\n",
       "      <td>258.40</td>\n",
       "    </tr>\n",
       "    <tr>\n",
       "      <th>student</th>\n",
       "      <td>25.89</td>\n",
       "      <td>283.68</td>\n",
       "    </tr>\n",
       "    <tr>\n",
       "      <th>technician</th>\n",
       "      <td>38.51</td>\n",
       "      <td>250.23</td>\n",
       "    </tr>\n",
       "  </tbody>\n",
       "</table>\n",
       "</div>"
      ],
      "text/plain": [
       "                age  duration\n",
       "job                          \n",
       "admin.        38.19    254.31\n",
       "blue-collar   39.56    264.54\n",
       "entrepreneur  41.72    263.27\n",
       "housemaid     45.50    250.45\n",
       "management    42.36    257.06\n",
       "retired       62.03    273.71\n",
       "self-employed 39.95    264.14\n",
       "services      37.93    258.40\n",
       "student       25.89    283.68\n",
       "technician    38.51    250.23"
      ]
     },
     "execution_count": 63,
     "metadata": {},
     "output_type": "execute_result"
    }
   ],
   "source": [
    "df.pivot_table(\n",
    "    [\"age\", \"duration\"],\n",
    "    [\"job\"],\n",
    "    aggfunc = \"mean\",\n",
    ").head(10)"
   ]
  },
  {
   "cell_type": "markdown",
   "id": "562e07f7",
   "metadata": {},
   "source": [
    "The obtained results allow you to plan marketing banking campaigns more effectively."
   ]
  },
  {
   "cell_type": "markdown",
   "id": "a38a8815",
   "metadata": {},
   "source": [
    "### Visualization in Pandas\n",
    "Method scatter_matrix allows to visualize the pairwise dependencies between the features (as well as the distribution of each feature on the diagonal). We will do it for numerical features."
   ]
  },
  {
   "cell_type": "code",
   "execution_count": 66,
   "id": "c512ea7d",
   "metadata": {},
   "outputs": [
    {
     "data": {
      "image/png": "[encoded data removed]",
      "text/plain": [
       "<Figure size 720x720 with 9 Axes>"
      ]
     },
     "metadata": {
      "needs_background": "light"
     },
     "output_type": "display_data"
    }
   ],
   "source": [
    "pd.plotting.scatter_matrix(\n",
    "    df[[\"age\", \"duration\", \"campaign\"]],\n",
    "    figsize = (10, 10),\n",
    "    diagonal = \"kde\")\n",
    "plt.show()"
   ]
  },
  {
   "cell_type": "markdown",
   "id": "ac8ce25c",
   "metadata": {},
   "source": [
    "A scatter matrix (pairs plot) compactly plots all the numeric variables we have in a dataset against each other. The plots on the main diagonal allow to visually define the type of data distribution: the distribution is similar to normal for age, and for a call duration and the number of contacts, the geometric distribution is more suitable.\n",
    "\n",
    "### Build a separate histogram for each feature:"
   ]
  },
  {
   "cell_type": "code",
   "execution_count": 67,
   "id": "adf08dc5",
   "metadata": {},
   "outputs": [
    {
     "data": {
      "text/plain": [
       "<AxesSubplot:>"
      ]
     },
     "execution_count": 67,
     "metadata": {},
     "output_type": "execute_result"
    },
    {
     "data": {
      "image/png": "[encoded data removed]",
      "text/plain": [
       "<Figure size 576x432 with 1 Axes>"
      ]
     },
     "metadata": {
      "needs_background": "light"
     },
     "output_type": "display_data"
    }
   ],
   "source": [
    "df[\"age\"].hist()"
   ]
  },
  {
   "cell_type": "markdown",
   "id": "ab536d7e",
   "metadata": {},
   "source": [
    "Inference : The histogram shows that most of our clients are between the ages of 25 and 50, which corresponds to the actively working part of the population."
   ]
  },
  {
   "cell_type": "code",
   "execution_count": 69,
   "id": "e0700246",
   "metadata": {},
   "outputs": [
    {
     "data": {
      "image/png": "[encoded data removed]",
      "text/plain": [
       "<Figure size 1080x720 with 12 Axes>"
      ]
     },
     "metadata": {
      "needs_background": "light"
     },
     "output_type": "display_data"
    }
   ],
   "source": [
    "df.hist(color = \"g\",\n",
    "        bins = 30,\n",
    "        figsize = (15, 10))\n",
    "plt.show()"
   ]
  },
  {
   "cell_type": "markdown",
   "id": "0b0a23fd",
   "metadata": {},
   "source": [
    "A visual analysis of the histograms presented allows to make preliminary assumptions about the variability of the source data.\n",
    "\n",
    "Box Plot (\"Box and whisker plot\") is useful too. It allows to compactly visualize the main characteristics of the feature distribution (the median, lower and upper quartile, minimal and maximum, outliers)."
   ]
  },
  {
   "cell_type": "code",
   "execution_count": 70,
   "id": "7a66d642",
   "metadata": {},
   "outputs": [
    {
     "data": {
      "image/png": "[encoded data removed]",
      "text/plain": [
       "<Figure size 576x432 with 1 Axes>"
      ]
     },
     "metadata": {
      "needs_background": "light"
     },
     "output_type": "display_data"
    }
   ],
   "source": [
    "df.boxplot(column = \"age\",\n",
    "           by = \"marital\")\n",
    "plt.show()"
   ]
  },
  {
   "cell_type": "markdown",
   "id": "8bd46d9f",
   "metadata": {},
   "source": [
    "Inference : The plot shows that unmarried people are on average younger than divorced and married ones. For the last two groups, there is an outlier zone over 70 years old, and for unmarried - over 50."
   ]
  },
  {
   "cell_type": "code",
   "execution_count": 72,
   "id": "879fae54",
   "metadata": {},
   "outputs": [
    {
     "data": {
      "text/plain": [
       "<AxesSubplot:title={'center':'age'}, xlabel='[marital, housing]'>"
      ]
     },
     "execution_count": 72,
     "metadata": {},
     "output_type": "execute_result"
    },
    {
     "data": {
      "image/png": "[encoded data removed]",
      "text/plain": [
       "<Figure size 720x720 with 1 Axes>"
      ]
     },
     "metadata": {
      "needs_background": "light"
     },
     "output_type": "display_data"
    }
   ],
   "source": [
    "df.boxplot(column = \"age\",\n",
    "           by = [\"marital\", \"housing\"],\n",
    "           figsize = (10, 10))"
   ]
  },
  {
   "cell_type": "markdown",
   "id": "8fc94d31",
   "metadata": {},
   "source": [
    "Inference : Age and marital status do not have any significant influence on having a housing loan."
   ]
  },
  {
   "cell_type": "markdown",
   "id": "7b679ae6",
   "metadata": {},
   "source": [
    "#### List 10 clients with the largest number of campaign."
   ]
  },
  {
   "cell_type": "code",
   "execution_count": 73,
   "id": "84a02e5d",
   "metadata": {},
   "outputs": [
    {
     "data": {
      "text/html": [
       "<div>\n",
       "<style scoped>\n",
       "    .dataframe tbody tr th:only-of-type {\n",
       "        vertical-align: middle;\n",
       "    }\n",
       "\n",
       "    .dataframe tbody tr th {\n",
       "        vertical-align: top;\n",
       "    }\n",
       "\n",
       "    .dataframe thead th {\n",
       "        text-align: right;\n",
       "    }\n",
       "</style>\n",
       "<table border=\"1\" class=\"dataframe\">\n",
       "  <thead>\n",
       "    <tr style=\"text-align: right;\">\n",
       "      <th></th>\n",
       "      <th>age</th>\n",
       "      <th>job</th>\n",
       "      <th>marital</th>\n",
       "      <th>education</th>\n",
       "      <th>default</th>\n",
       "      <th>housing</th>\n",
       "      <th>loan</th>\n",
       "      <th>contact</th>\n",
       "      <th>month</th>\n",
       "      <th>day_of_week</th>\n",
       "      <th>...</th>\n",
       "      <th>campaign</th>\n",
       "      <th>pdays</th>\n",
       "      <th>previous</th>\n",
       "      <th>poutcome</th>\n",
       "      <th>emp.var.rate</th>\n",
       "      <th>cons.price.idx</th>\n",
       "      <th>cons.conf.idx</th>\n",
       "      <th>euribor3m</th>\n",
       "      <th>nr.employed</th>\n",
       "      <th>y</th>\n",
       "    </tr>\n",
       "  </thead>\n",
       "  <tbody>\n",
       "    <tr>\n",
       "      <th>4107</th>\n",
       "      <td>32</td>\n",
       "      <td>admin.</td>\n",
       "      <td>married</td>\n",
       "      <td>university.degree</td>\n",
       "      <td>unknown</td>\n",
       "      <td>unknown</td>\n",
       "      <td>unknown</td>\n",
       "      <td>telephone</td>\n",
       "      <td>may</td>\n",
       "      <td>mon</td>\n",
       "      <td>...</td>\n",
       "      <td>56</td>\n",
       "      <td>999</td>\n",
       "      <td>0</td>\n",
       "      <td>nonexistent</td>\n",
       "      <td>1.10</td>\n",
       "      <td>93.99</td>\n",
       "      <td>-36.40</td>\n",
       "      <td>4.86</td>\n",
       "      <td>5191.00</td>\n",
       "      <td>0</td>\n",
       "    </tr>\n",
       "    <tr>\n",
       "      <th>18728</th>\n",
       "      <td>54</td>\n",
       "      <td>admin.</td>\n",
       "      <td>married</td>\n",
       "      <td>university.degree</td>\n",
       "      <td>unknown</td>\n",
       "      <td>yes</td>\n",
       "      <td>no</td>\n",
       "      <td>cellular</td>\n",
       "      <td>jul</td>\n",
       "      <td>thu</td>\n",
       "      <td>...</td>\n",
       "      <td>43</td>\n",
       "      <td>999</td>\n",
       "      <td>0</td>\n",
       "      <td>nonexistent</td>\n",
       "      <td>1.40</td>\n",
       "      <td>93.92</td>\n",
       "      <td>-42.70</td>\n",
       "      <td>4.97</td>\n",
       "      <td>5228.10</td>\n",
       "      <td>0</td>\n",
       "    </tr>\n",
       "    <tr>\n",
       "      <th>13447</th>\n",
       "      <td>32</td>\n",
       "      <td>technician</td>\n",
       "      <td>single</td>\n",
       "      <td>university.degree</td>\n",
       "      <td>no</td>\n",
       "      <td>yes</td>\n",
       "      <td>yes</td>\n",
       "      <td>telephone</td>\n",
       "      <td>jul</td>\n",
       "      <td>wed</td>\n",
       "      <td>...</td>\n",
       "      <td>43</td>\n",
       "      <td>999</td>\n",
       "      <td>0</td>\n",
       "      <td>nonexistent</td>\n",
       "      <td>1.40</td>\n",
       "      <td>93.92</td>\n",
       "      <td>-42.70</td>\n",
       "      <td>4.96</td>\n",
       "      <td>5228.10</td>\n",
       "      <td>0</td>\n",
       "    </tr>\n",
       "    <tr>\n",
       "      <th>4168</th>\n",
       "      <td>29</td>\n",
       "      <td>technician</td>\n",
       "      <td>married</td>\n",
       "      <td>professional.course</td>\n",
       "      <td>no</td>\n",
       "      <td>yes</td>\n",
       "      <td>no</td>\n",
       "      <td>telephone</td>\n",
       "      <td>may</td>\n",
       "      <td>mon</td>\n",
       "      <td>...</td>\n",
       "      <td>42</td>\n",
       "      <td>999</td>\n",
       "      <td>0</td>\n",
       "      <td>nonexistent</td>\n",
       "      <td>1.10</td>\n",
       "      <td>93.99</td>\n",
       "      <td>-36.40</td>\n",
       "      <td>4.86</td>\n",
       "      <td>5191.00</td>\n",
       "      <td>0</td>\n",
       "    </tr>\n",
       "    <tr>\n",
       "      <th>5304</th>\n",
       "      <td>44</td>\n",
       "      <td>retired</td>\n",
       "      <td>married</td>\n",
       "      <td>basic.9y</td>\n",
       "      <td>no</td>\n",
       "      <td>yes</td>\n",
       "      <td>no</td>\n",
       "      <td>telephone</td>\n",
       "      <td>may</td>\n",
       "      <td>fri</td>\n",
       "      <td>...</td>\n",
       "      <td>42</td>\n",
       "      <td>999</td>\n",
       "      <td>0</td>\n",
       "      <td>nonexistent</td>\n",
       "      <td>1.10</td>\n",
       "      <td>93.99</td>\n",
       "      <td>-36.40</td>\n",
       "      <td>4.86</td>\n",
       "      <td>5191.00</td>\n",
       "      <td>0</td>\n",
       "    </tr>\n",
       "    <tr>\n",
       "      <th>11033</th>\n",
       "      <td>38</td>\n",
       "      <td>blue-collar</td>\n",
       "      <td>married</td>\n",
       "      <td>basic.4y</td>\n",
       "      <td>no</td>\n",
       "      <td>yes</td>\n",
       "      <td>no</td>\n",
       "      <td>telephone</td>\n",
       "      <td>jun</td>\n",
       "      <td>wed</td>\n",
       "      <td>...</td>\n",
       "      <td>41</td>\n",
       "      <td>999</td>\n",
       "      <td>0</td>\n",
       "      <td>nonexistent</td>\n",
       "      <td>1.40</td>\n",
       "      <td>94.47</td>\n",
       "      <td>-41.80</td>\n",
       "      <td>4.96</td>\n",
       "      <td>5228.10</td>\n",
       "      <td>0</td>\n",
       "    </tr>\n",
       "    <tr>\n",
       "      <th>18754</th>\n",
       "      <td>36</td>\n",
       "      <td>admin.</td>\n",
       "      <td>single</td>\n",
       "      <td>university.degree</td>\n",
       "      <td>no</td>\n",
       "      <td>no</td>\n",
       "      <td>no</td>\n",
       "      <td>cellular</td>\n",
       "      <td>jul</td>\n",
       "      <td>thu</td>\n",
       "      <td>...</td>\n",
       "      <td>40</td>\n",
       "      <td>999</td>\n",
       "      <td>0</td>\n",
       "      <td>nonexistent</td>\n",
       "      <td>1.40</td>\n",
       "      <td>93.92</td>\n",
       "      <td>-42.70</td>\n",
       "      <td>4.97</td>\n",
       "      <td>5228.10</td>\n",
       "      <td>0</td>\n",
       "    </tr>\n",
       "    <tr>\n",
       "      <th>11769</th>\n",
       "      <td>56</td>\n",
       "      <td>self-employed</td>\n",
       "      <td>married</td>\n",
       "      <td>professional.course</td>\n",
       "      <td>no</td>\n",
       "      <td>no</td>\n",
       "      <td>yes</td>\n",
       "      <td>telephone</td>\n",
       "      <td>jun</td>\n",
       "      <td>fri</td>\n",
       "      <td>...</td>\n",
       "      <td>40</td>\n",
       "      <td>999</td>\n",
       "      <td>0</td>\n",
       "      <td>nonexistent</td>\n",
       "      <td>1.40</td>\n",
       "      <td>94.47</td>\n",
       "      <td>-41.80</td>\n",
       "      <td>4.96</td>\n",
       "      <td>5228.10</td>\n",
       "      <td>0</td>\n",
       "    </tr>\n",
       "    <tr>\n",
       "      <th>4114</th>\n",
       "      <td>52</td>\n",
       "      <td>entrepreneur</td>\n",
       "      <td>married</td>\n",
       "      <td>university.degree</td>\n",
       "      <td>no</td>\n",
       "      <td>no</td>\n",
       "      <td>no</td>\n",
       "      <td>telephone</td>\n",
       "      <td>may</td>\n",
       "      <td>mon</td>\n",
       "      <td>...</td>\n",
       "      <td>39</td>\n",
       "      <td>999</td>\n",
       "      <td>0</td>\n",
       "      <td>nonexistent</td>\n",
       "      <td>1.10</td>\n",
       "      <td>93.99</td>\n",
       "      <td>-36.40</td>\n",
       "      <td>4.86</td>\n",
       "      <td>5191.00</td>\n",
       "      <td>0</td>\n",
       "    </tr>\n",
       "    <tr>\n",
       "      <th>11593</th>\n",
       "      <td>43</td>\n",
       "      <td>technician</td>\n",
       "      <td>married</td>\n",
       "      <td>high.school</td>\n",
       "      <td>no</td>\n",
       "      <td>yes</td>\n",
       "      <td>no</td>\n",
       "      <td>telephone</td>\n",
       "      <td>jun</td>\n",
       "      <td>fri</td>\n",
       "      <td>...</td>\n",
       "      <td>37</td>\n",
       "      <td>999</td>\n",
       "      <td>0</td>\n",
       "      <td>nonexistent</td>\n",
       "      <td>1.40</td>\n",
       "      <td>94.47</td>\n",
       "      <td>-41.80</td>\n",
       "      <td>4.96</td>\n",
       "      <td>5228.10</td>\n",
       "      <td>0</td>\n",
       "    </tr>\n",
       "  </tbody>\n",
       "</table>\n",
       "<p>10 rows × 21 columns</p>\n",
       "</div>"
      ],
      "text/plain": [
       "       age            job  marital            education  default  housing  \\\n",
       "4107    32         admin.  married    university.degree  unknown  unknown   \n",
       "18728   54         admin.  married    university.degree  unknown      yes   \n",
       "13447   32     technician   single    university.degree       no      yes   \n",
       "4168    29     technician  married  professional.course       no      yes   \n",
       "5304    44        retired  married             basic.9y       no      yes   \n",
       "11033   38    blue-collar  married             basic.4y       no      yes   \n",
       "18754   36         admin.   single    university.degree       no       no   \n",
       "11769   56  self-employed  married  professional.course       no       no   \n",
       "4114    52   entrepreneur  married    university.degree       no       no   \n",
       "11593   43     technician  married          high.school       no      yes   \n",
       "\n",
       "          loan    contact month day_of_week  ...  campaign  pdays  previous  \\\n",
       "4107   unknown  telephone   may         mon  ...        56    999         0   \n",
       "18728       no   cellular   jul         thu  ...        43    999         0   \n",
       "13447      yes  telephone   jul         wed  ...        43    999         0   \n",
       "4168        no  telephone   may         mon  ...        42    999         0   \n",
       "5304        no  telephone   may         fri  ...        42    999         0   \n",
       "11033       no  telephone   jun         wed  ...        41    999         0   \n",
       "18754       no   cellular   jul         thu  ...        40    999         0   \n",
       "11769      yes  telephone   jun         fri  ...        40    999         0   \n",
       "4114        no  telephone   may         mon  ...        39    999         0   \n",
       "11593       no  telephone   jun         fri  ...        37    999         0   \n",
       "\n",
       "          poutcome emp.var.rate  cons.price.idx  cons.conf.idx  euribor3m  \\\n",
       "4107   nonexistent         1.10           93.99         -36.40       4.86   \n",
       "18728  nonexistent         1.40           93.92         -42.70       4.97   \n",
       "13447  nonexistent         1.40           93.92         -42.70       4.96   \n",
       "4168   nonexistent         1.10           93.99         -36.40       4.86   \n",
       "5304   nonexistent         1.10           93.99         -36.40       4.86   \n",
       "11033  nonexistent         1.40           94.47         -41.80       4.96   \n",
       "18754  nonexistent         1.40           93.92         -42.70       4.97   \n",
       "11769  nonexistent         1.40           94.47         -41.80       4.96   \n",
       "4114   nonexistent         1.10           93.99         -36.40       4.86   \n",
       "11593  nonexistent         1.40           94.47         -41.80       4.96   \n",
       "\n",
       "       nr.employed  y  \n",
       "4107       5191.00  0  \n",
       "18728      5228.10  0  \n",
       "13447      5228.10  0  \n",
       "4168       5191.00  0  \n",
       "5304       5191.00  0  \n",
       "11033      5228.10  0  \n",
       "18754      5228.10  0  \n",
       "11769      5228.10  0  \n",
       "4114       5191.00  0  \n",
       "11593      5228.10  0  \n",
       "\n",
       "[10 rows x 21 columns]"
      ]
     },
     "execution_count": 73,
     "metadata": {},
     "output_type": "execute_result"
    }
   ],
   "source": [
    "df.sort_values(by = \"campaign\", ascending = False).head(10)"
   ]
  },
  {
   "cell_type": "markdown",
   "id": "d4051911",
   "metadata": {},
   "source": [
    "#### Determine the median age and the number of contacts for different levels of client education."
   ]
  },
  {
   "cell_type": "code",
   "execution_count": 74,
   "id": "f5c4bc3d",
   "metadata": {},
   "outputs": [
    {
     "data": {
      "text/html": [
       "<div>\n",
       "<style scoped>\n",
       "    .dataframe tbody tr th:only-of-type {\n",
       "        vertical-align: middle;\n",
       "    }\n",
       "\n",
       "    .dataframe tbody tr th {\n",
       "        vertical-align: top;\n",
       "    }\n",
       "\n",
       "    .dataframe thead tr th {\n",
       "        text-align: left;\n",
       "    }\n",
       "\n",
       "    .dataframe thead tr:last-of-type th {\n",
       "        text-align: right;\n",
       "    }\n",
       "</style>\n",
       "<table border=\"1\" class=\"dataframe\">\n",
       "  <thead>\n",
       "    <tr>\n",
       "      <th></th>\n",
       "      <th colspan=\"2\" halign=\"left\">mean</th>\n",
       "      <th colspan=\"2\" halign=\"left\">count</th>\n",
       "    </tr>\n",
       "    <tr>\n",
       "      <th></th>\n",
       "      <th>age</th>\n",
       "      <th>campaign</th>\n",
       "      <th>age</th>\n",
       "      <th>campaign</th>\n",
       "    </tr>\n",
       "    <tr>\n",
       "      <th>education</th>\n",
       "      <th></th>\n",
       "      <th></th>\n",
       "      <th></th>\n",
       "      <th></th>\n",
       "    </tr>\n",
       "  </thead>\n",
       "  <tbody>\n",
       "    <tr>\n",
       "      <th>basic.4y</th>\n",
       "      <td>47.60</td>\n",
       "      <td>2.60</td>\n",
       "      <td>4176</td>\n",
       "      <td>4176</td>\n",
       "    </tr>\n",
       "    <tr>\n",
       "      <th>basic.6y</th>\n",
       "      <td>40.45</td>\n",
       "      <td>2.56</td>\n",
       "      <td>2292</td>\n",
       "      <td>2292</td>\n",
       "    </tr>\n",
       "    <tr>\n",
       "      <th>basic.9y</th>\n",
       "      <td>39.06</td>\n",
       "      <td>2.53</td>\n",
       "      <td>6045</td>\n",
       "      <td>6045</td>\n",
       "    </tr>\n",
       "    <tr>\n",
       "      <th>high.school</th>\n",
       "      <td>38.00</td>\n",
       "      <td>2.57</td>\n",
       "      <td>9515</td>\n",
       "      <td>9515</td>\n",
       "    </tr>\n",
       "    <tr>\n",
       "      <th>illiterate</th>\n",
       "      <td>48.50</td>\n",
       "      <td>2.28</td>\n",
       "      <td>18</td>\n",
       "      <td>18</td>\n",
       "    </tr>\n",
       "    <tr>\n",
       "      <th>professional.course</th>\n",
       "      <td>40.08</td>\n",
       "      <td>2.59</td>\n",
       "      <td>5243</td>\n",
       "      <td>5243</td>\n",
       "    </tr>\n",
       "    <tr>\n",
       "      <th>university.degree</th>\n",
       "      <td>38.88</td>\n",
       "      <td>2.56</td>\n",
       "      <td>12168</td>\n",
       "      <td>12168</td>\n",
       "    </tr>\n",
       "    <tr>\n",
       "      <th>unknown</th>\n",
       "      <td>43.48</td>\n",
       "      <td>2.60</td>\n",
       "      <td>1731</td>\n",
       "      <td>1731</td>\n",
       "    </tr>\n",
       "  </tbody>\n",
       "</table>\n",
       "</div>"
      ],
      "text/plain": [
       "                     mean           count         \n",
       "                      age campaign    age campaign\n",
       "education                                         \n",
       "basic.4y            47.60     2.60   4176     4176\n",
       "basic.6y            40.45     2.56   2292     2292\n",
       "basic.9y            39.06     2.53   6045     6045\n",
       "high.school         38.00     2.57   9515     9515\n",
       "illiterate          48.50     2.28     18       18\n",
       "professional.course 40.08     2.59   5243     5243\n",
       "university.degree   38.88     2.56  12168    12168\n",
       "unknown             43.48     2.60   1731     1731"
      ]
     },
     "execution_count": 74,
     "metadata": {},
     "output_type": "execute_result"
    }
   ],
   "source": [
    "df.pivot_table(\n",
    "    [\"age\", \"campaign\"],\n",
    "    [\"education\"],\n",
    "    aggfunc = [\"mean\", \"count\"],\n",
    ")"
   ]
  },
  {
   "cell_type": "markdown",
   "id": "f68eac95",
   "metadata": {},
   "source": [
    "#### Output box plot to analyze the client age distribution by their education level."
   ]
  },
  {
   "cell_type": "code",
   "execution_count": 75,
   "id": "d3668621",
   "metadata": {},
   "outputs": [
    {
     "data": {
      "text/plain": [
       "<AxesSubplot:title={'center':'age'}, xlabel='education'>"
      ]
     },
     "execution_count": 75,
     "metadata": {},
     "output_type": "execute_result"
    },
    {
     "data": {
      "image/png": "[encoded data removed]",
      "text/plain": [
       "<Figure size 1080x1080 with 1 Axes>"
      ]
     },
     "metadata": {
      "needs_background": "light"
     },
     "output_type": "display_data"
    }
   ],
   "source": [
    "df.boxplot(column = \"age\",\n",
    "  by = \"education\",\n",
    "  figsize = (15, 15))"
   ]
  },
  {
   "cell_type": "code",
   "execution_count": null,
   "id": "6d2f1900",
   "metadata": {},
   "outputs": [],
   "source": []
  }
 ],
 "metadata": {
  "kernelspec": {
   "display_name": "Python 3 (ipykernel)",
   "language": "python",
   "name": "python3"
  },
  "language_info": {
   "codemirror_mode": {
    "name": "ipython",
    "version": 3
   },
   "file_extension": ".py",
   "mimetype": "text/x-python",
   "name": "python",
   "nbconvert_exporter": "python",
   "pygments_lexer": "ipython3",
   "version": "3.9.7"
  }
 },
 "nbformat": 4,
 "nbformat_minor": 5
}
